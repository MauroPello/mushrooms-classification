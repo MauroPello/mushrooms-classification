{
 "cells": [
  {
   "cell_type": "code",
   "execution_count": 1,
   "metadata": {},
   "outputs": [],
   "source": [
    "%matplotlib inline\n",
    "import pandas as pd\n",
    "from os import path\n",
    "from urllib.request import urlretrieve\n",
    "from sklearn.preprocessing import OrdinalEncoder\n",
    "from sklearn.impute import SimpleImputer, KNNImputer\n",
    "from sklearn.feature_selection import VarianceThreshold\n",
    "from sklearn.preprocessing import Normalizer"
   ]
  },
  {
   "cell_type": "markdown",
   "metadata": {},
   "source": [
    "Dataset: https://archive.ics.uci.edu/dataset/848/secondary+mushroom+dataset\n",
    "\n",
    "Similar thing: https://github.com/jkginfinite/Mushroom_Classification\n",
    "\n",
    "Grafici: https://colab.research.google.com/github/datascienceunibo/dialab2024/blob/main/Preprocessing_con_pandas/Preprocessing_e_analisi_esplorativa.sol.ipynb\n",
    "\n",
    "Onehot encoding: https://colab.research.google.com/github/datascienceunibo/dialab2024/blob/main/Regressione_con_Alberi/Regressione_con_Alberi.sol.ipynb\n",
    "\n",
    "Obiettivo: classificare i funghi in velenosi o commestibili\n",
    "\n",
    "Parlare della struttura e delle variabili contenute (magari menzionare che ho scelto questo invece che l'original e perche ha 3 valori continui). \n",
    "\n",
    "Nominare anche le cose spiegate nella descrizione e tutto."
   ]
  },
  {
   "cell_type": "code",
   "execution_count": 2,
   "metadata": {},
   "outputs": [
    {
     "data": {
      "text/html": [
       "<div>\n",
       "<style scoped>\n",
       "    .dataframe tbody tr th:only-of-type {\n",
       "        vertical-align: middle;\n",
       "    }\n",
       "\n",
       "    .dataframe tbody tr th {\n",
       "        vertical-align: top;\n",
       "    }\n",
       "\n",
       "    .dataframe thead th {\n",
       "        text-align: right;\n",
       "    }\n",
       "</style>\n",
       "<table border=\"1\" class=\"dataframe\">\n",
       "  <thead>\n",
       "    <tr style=\"text-align: right;\">\n",
       "      <th></th>\n",
       "      <th>class</th>\n",
       "      <th>cap-diameter</th>\n",
       "      <th>cap-shape</th>\n",
       "      <th>cap-surface</th>\n",
       "      <th>cap-color</th>\n",
       "      <th>does-bruise-or-bleed</th>\n",
       "      <th>gill-attachment</th>\n",
       "      <th>gill-spacing</th>\n",
       "      <th>gill-color</th>\n",
       "      <th>stem-height</th>\n",
       "      <th>...</th>\n",
       "      <th>stem-root</th>\n",
       "      <th>stem-surface</th>\n",
       "      <th>stem-color</th>\n",
       "      <th>veil-type</th>\n",
       "      <th>veil-color</th>\n",
       "      <th>has-ring</th>\n",
       "      <th>ring-type</th>\n",
       "      <th>spore-print-color</th>\n",
       "      <th>habitat</th>\n",
       "      <th>season</th>\n",
       "    </tr>\n",
       "  </thead>\n",
       "  <tbody>\n",
       "    <tr>\n",
       "      <th>0</th>\n",
       "      <td>p</td>\n",
       "      <td>15.26</td>\n",
       "      <td>x</td>\n",
       "      <td>g</td>\n",
       "      <td>o</td>\n",
       "      <td>f</td>\n",
       "      <td>e</td>\n",
       "      <td>NaN</td>\n",
       "      <td>w</td>\n",
       "      <td>16.95</td>\n",
       "      <td>...</td>\n",
       "      <td>s</td>\n",
       "      <td>y</td>\n",
       "      <td>w</td>\n",
       "      <td>u</td>\n",
       "      <td>w</td>\n",
       "      <td>t</td>\n",
       "      <td>g</td>\n",
       "      <td>NaN</td>\n",
       "      <td>d</td>\n",
       "      <td>w</td>\n",
       "    </tr>\n",
       "    <tr>\n",
       "      <th>1</th>\n",
       "      <td>p</td>\n",
       "      <td>16.60</td>\n",
       "      <td>x</td>\n",
       "      <td>g</td>\n",
       "      <td>o</td>\n",
       "      <td>f</td>\n",
       "      <td>e</td>\n",
       "      <td>NaN</td>\n",
       "      <td>w</td>\n",
       "      <td>17.99</td>\n",
       "      <td>...</td>\n",
       "      <td>s</td>\n",
       "      <td>y</td>\n",
       "      <td>w</td>\n",
       "      <td>u</td>\n",
       "      <td>w</td>\n",
       "      <td>t</td>\n",
       "      <td>g</td>\n",
       "      <td>NaN</td>\n",
       "      <td>d</td>\n",
       "      <td>u</td>\n",
       "    </tr>\n",
       "    <tr>\n",
       "      <th>2</th>\n",
       "      <td>p</td>\n",
       "      <td>14.07</td>\n",
       "      <td>x</td>\n",
       "      <td>g</td>\n",
       "      <td>o</td>\n",
       "      <td>f</td>\n",
       "      <td>e</td>\n",
       "      <td>NaN</td>\n",
       "      <td>w</td>\n",
       "      <td>17.80</td>\n",
       "      <td>...</td>\n",
       "      <td>s</td>\n",
       "      <td>y</td>\n",
       "      <td>w</td>\n",
       "      <td>u</td>\n",
       "      <td>w</td>\n",
       "      <td>t</td>\n",
       "      <td>g</td>\n",
       "      <td>NaN</td>\n",
       "      <td>d</td>\n",
       "      <td>w</td>\n",
       "    </tr>\n",
       "    <tr>\n",
       "      <th>3</th>\n",
       "      <td>p</td>\n",
       "      <td>14.17</td>\n",
       "      <td>f</td>\n",
       "      <td>h</td>\n",
       "      <td>e</td>\n",
       "      <td>f</td>\n",
       "      <td>e</td>\n",
       "      <td>NaN</td>\n",
       "      <td>w</td>\n",
       "      <td>15.77</td>\n",
       "      <td>...</td>\n",
       "      <td>s</td>\n",
       "      <td>y</td>\n",
       "      <td>w</td>\n",
       "      <td>u</td>\n",
       "      <td>w</td>\n",
       "      <td>t</td>\n",
       "      <td>p</td>\n",
       "      <td>NaN</td>\n",
       "      <td>d</td>\n",
       "      <td>w</td>\n",
       "    </tr>\n",
       "    <tr>\n",
       "      <th>4</th>\n",
       "      <td>p</td>\n",
       "      <td>14.64</td>\n",
       "      <td>x</td>\n",
       "      <td>h</td>\n",
       "      <td>o</td>\n",
       "      <td>f</td>\n",
       "      <td>e</td>\n",
       "      <td>NaN</td>\n",
       "      <td>w</td>\n",
       "      <td>16.53</td>\n",
       "      <td>...</td>\n",
       "      <td>s</td>\n",
       "      <td>y</td>\n",
       "      <td>w</td>\n",
       "      <td>u</td>\n",
       "      <td>w</td>\n",
       "      <td>t</td>\n",
       "      <td>p</td>\n",
       "      <td>NaN</td>\n",
       "      <td>d</td>\n",
       "      <td>w</td>\n",
       "    </tr>\n",
       "  </tbody>\n",
       "</table>\n",
       "<p>5 rows × 21 columns</p>\n",
       "</div>"
      ],
      "text/plain": [
       "  class  cap-diameter cap-shape cap-surface cap-color does-bruise-or-bleed  \\\n",
       "0     p         15.26         x           g         o                    f   \n",
       "1     p         16.60         x           g         o                    f   \n",
       "2     p         14.07         x           g         o                    f   \n",
       "3     p         14.17         f           h         e                    f   \n",
       "4     p         14.64         x           h         o                    f   \n",
       "\n",
       "  gill-attachment gill-spacing gill-color  stem-height  ...  stem-root  \\\n",
       "0               e          NaN          w        16.95  ...          s   \n",
       "1               e          NaN          w        17.99  ...          s   \n",
       "2               e          NaN          w        17.80  ...          s   \n",
       "3               e          NaN          w        15.77  ...          s   \n",
       "4               e          NaN          w        16.53  ...          s   \n",
       "\n",
       "  stem-surface stem-color veil-type veil-color has-ring ring-type  \\\n",
       "0            y          w         u          w        t         g   \n",
       "1            y          w         u          w        t         g   \n",
       "2            y          w         u          w        t         g   \n",
       "3            y          w         u          w        t         p   \n",
       "4            y          w         u          w        t         p   \n",
       "\n",
       "  spore-print-color habitat season  \n",
       "0               NaN       d      w  \n",
       "1               NaN       d      u  \n",
       "2               NaN       d      w  \n",
       "3               NaN       d      w  \n",
       "4               NaN       d      w  \n",
       "\n",
       "[5 rows x 21 columns]"
      ]
     },
     "execution_count": 2,
     "metadata": {},
     "output_type": "execute_result"
    }
   ],
   "source": [
    "dataset_url = \"https://archive.ics.uci.edu/static/public/848/data.csv\"\n",
    "if not path.exists(\"mushrooms.csv\"):\n",
    "    urlretrieve(dataset_url, \"mushrooms.csv\")\n",
    "\n",
    "mushrooms = pd.read_csv(\"mushrooms.csv\")\n",
    "\n",
    "mushrooms.head()"
   ]
  },
  {
   "cell_type": "code",
   "execution_count": 3,
   "metadata": {},
   "outputs": [
    {
     "name": "stdout",
     "output_type": "stream",
     "text": [
      "<class 'pandas.core.frame.DataFrame'>\n",
      "RangeIndex: 61069 entries, 0 to 61068\n",
      "Data columns (total 21 columns):\n",
      " #   Column                Non-Null Count  Dtype  \n",
      "---  ------                --------------  -----  \n",
      " 0   class                 61069 non-null  object \n",
      " 1   cap-diameter          61069 non-null  float64\n",
      " 2   cap-shape             61069 non-null  object \n",
      " 3   cap-surface           46949 non-null  object \n",
      " 4   cap-color             61069 non-null  object \n",
      " 5   does-bruise-or-bleed  61069 non-null  object \n",
      " 6   gill-attachment       51185 non-null  object \n",
      " 7   gill-spacing          36006 non-null  object \n",
      " 8   gill-color            61069 non-null  object \n",
      " 9   stem-height           61069 non-null  float64\n",
      " 10  stem-width            61069 non-null  float64\n",
      " 11  stem-root             9531 non-null   object \n",
      " 12  stem-surface          22945 non-null  object \n",
      " 13  stem-color            61069 non-null  object \n",
      " 14  veil-type             3177 non-null   object \n",
      " 15  veil-color            7413 non-null   object \n",
      " 16  has-ring              61069 non-null  object \n",
      " 17  ring-type             58598 non-null  object \n",
      " 18  spore-print-color     6354 non-null   object \n",
      " 19  habitat               61069 non-null  object \n",
      " 20  season                61069 non-null  object \n",
      "dtypes: float64(3), object(18)\n",
      "memory usage: 48.5 MB\n"
     ]
    }
   ],
   "source": [
    "mushrooms.info(memory_usage=\"deep\")"
   ]
  },
  {
   "cell_type": "markdown",
   "metadata": {},
   "source": [
    "Use boolean when possible"
   ]
  },
  {
   "cell_type": "code",
   "execution_count": 4,
   "metadata": {},
   "outputs": [
    {
     "name": "stdout",
     "output_type": "stream",
     "text": [
      "<class 'pandas.core.frame.DataFrame'>\n",
      "RangeIndex: 61069 entries, 0 to 61068\n",
      "Data columns (total 21 columns):\n",
      " #   Column                Non-Null Count  Dtype  \n",
      "---  ------                --------------  -----  \n",
      " 0   is-edible             61069 non-null  bool   \n",
      " 1   cap-diameter          61069 non-null  float64\n",
      " 2   cap-shape             61069 non-null  object \n",
      " 3   cap-surface           46949 non-null  object \n",
      " 4   cap-color             61069 non-null  object \n",
      " 5   does-bruise-or-bleed  61069 non-null  bool   \n",
      " 6   gill-attachment       51185 non-null  object \n",
      " 7   gill-spacing          36006 non-null  object \n",
      " 8   gill-color            61069 non-null  object \n",
      " 9   stem-height           61069 non-null  float64\n",
      " 10  stem-width            61069 non-null  float64\n",
      " 11  stem-root             9531 non-null   object \n",
      " 12  stem-surface          22945 non-null  object \n",
      " 13  stem-color            61069 non-null  object \n",
      " 14  veil-type             3177 non-null   object \n",
      " 15  veil-color            7413 non-null   object \n",
      " 16  has-ring              61069 non-null  object \n",
      " 17  ring-type             58598 non-null  object \n",
      " 18  spore-print-color     6354 non-null   object \n",
      " 19  habitat               61069 non-null  object \n",
      " 20  season                61069 non-null  object \n",
      "dtypes: bool(2), float64(3), object(16)\n",
      "memory usage: 42.8 MB\n"
     ]
    }
   ],
   "source": [
    "mushrooms.rename(columns={\"class\": \"is-edible\"}, inplace=True)\n",
    "\n",
    "mushrooms[\"is-edible\"] = mushrooms[\"is-edible\"].map({\"p\": False, \"e\": True})\n",
    "mushrooms[\"does-bruise-or-bleed\"] = mushrooms[\"does-bruise-or-bleed\"].map({\"t\": True, \"f\": False})\n",
    "\n",
    "mushrooms.info(memory_usage=\"deep\")"
   ]
  },
  {
   "cell_type": "markdown",
   "metadata": {},
   "source": [
    "encode categories as float and keep NaN values"
   ]
  },
  {
   "cell_type": "code",
   "execution_count": 5,
   "metadata": {},
   "outputs": [
    {
     "name": "stdout",
     "output_type": "stream",
     "text": [
      "<class 'pandas.core.frame.DataFrame'>\n",
      "RangeIndex: 61069 entries, 0 to 61068\n",
      "Data columns (total 21 columns):\n",
      " #   Column                Non-Null Count  Dtype  \n",
      "---  ------                --------------  -----  \n",
      " 0   is-edible             61069 non-null  bool   \n",
      " 1   cap-diameter          61069 non-null  float64\n",
      " 2   cap-shape             61069 non-null  float64\n",
      " 3   cap-surface           46949 non-null  float64\n",
      " 4   cap-color             61069 non-null  float64\n",
      " 5   does-bruise-or-bleed  61069 non-null  bool   \n",
      " 6   gill-attachment       51185 non-null  float64\n",
      " 7   gill-spacing          36006 non-null  float64\n",
      " 8   gill-color            61069 non-null  float64\n",
      " 9   stem-height           61069 non-null  float64\n",
      " 10  stem-width            61069 non-null  float64\n",
      " 11  stem-root             9531 non-null   float64\n",
      " 12  stem-surface          22945 non-null  float64\n",
      " 13  stem-color            61069 non-null  float64\n",
      " 14  veil-type             3177 non-null   float64\n",
      " 15  veil-color            7413 non-null   float64\n",
      " 16  has-ring              61069 non-null  float64\n",
      " 17  ring-type             58598 non-null  float64\n",
      " 18  spore-print-color     6354 non-null   float64\n",
      " 19  habitat               61069 non-null  float64\n",
      " 20  season                61069 non-null  float64\n",
      "dtypes: bool(2), float64(19)\n",
      "memory usage: 9.0 MB\n"
     ]
    }
   ],
   "source": [
    "category_columns = mushrooms.select_dtypes(include=\"object\").columns\n",
    "\n",
    "encoder = OrdinalEncoder()\n",
    "mushrooms[category_columns] = encoder.fit_transform(mushrooms[category_columns])\n",
    "\n",
    "mushrooms.info(memory_usage=\"deep\")"
   ]
  },
  {
   "cell_type": "markdown",
   "metadata": {},
   "source": [
    "Vediamo"
   ]
  },
  {
   "cell_type": "code",
   "execution_count": 6,
   "metadata": {},
   "outputs": [
    {
     "data": {
      "text/html": [
       "<div>\n",
       "<style scoped>\n",
       "    .dataframe tbody tr th:only-of-type {\n",
       "        vertical-align: middle;\n",
       "    }\n",
       "\n",
       "    .dataframe tbody tr th {\n",
       "        vertical-align: top;\n",
       "    }\n",
       "\n",
       "    .dataframe thead th {\n",
       "        text-align: right;\n",
       "    }\n",
       "</style>\n",
       "<table border=\"1\" class=\"dataframe\">\n",
       "  <thead>\n",
       "    <tr style=\"text-align: right;\">\n",
       "      <th></th>\n",
       "      <th>is-edible</th>\n",
       "      <th>cap-diameter</th>\n",
       "      <th>cap-shape</th>\n",
       "      <th>cap-surface</th>\n",
       "      <th>cap-color</th>\n",
       "      <th>does-bruise-or-bleed</th>\n",
       "      <th>gill-attachment</th>\n",
       "      <th>gill-spacing</th>\n",
       "      <th>gill-color</th>\n",
       "      <th>stem-height</th>\n",
       "      <th>...</th>\n",
       "      <th>stem-root</th>\n",
       "      <th>stem-surface</th>\n",
       "      <th>stem-color</th>\n",
       "      <th>veil-type</th>\n",
       "      <th>veil-color</th>\n",
       "      <th>has-ring</th>\n",
       "      <th>ring-type</th>\n",
       "      <th>spore-print-color</th>\n",
       "      <th>habitat</th>\n",
       "      <th>season</th>\n",
       "    </tr>\n",
       "  </thead>\n",
       "  <tbody>\n",
       "    <tr>\n",
       "      <th>0</th>\n",
       "      <td>False</td>\n",
       "      <td>15.26</td>\n",
       "      <td>6.0</td>\n",
       "      <td>2.0</td>\n",
       "      <td>6.0</td>\n",
       "      <td>False</td>\n",
       "      <td>2.0</td>\n",
       "      <td>NaN</td>\n",
       "      <td>10.0</td>\n",
       "      <td>16.95</td>\n",
       "      <td>...</td>\n",
       "      <td>4.0</td>\n",
       "      <td>7.0</td>\n",
       "      <td>11.0</td>\n",
       "      <td>0.0</td>\n",
       "      <td>4.0</td>\n",
       "      <td>1.0</td>\n",
       "      <td>2.0</td>\n",
       "      <td>NaN</td>\n",
       "      <td>0.0</td>\n",
       "      <td>3.0</td>\n",
       "    </tr>\n",
       "    <tr>\n",
       "      <th>1</th>\n",
       "      <td>False</td>\n",
       "      <td>16.60</td>\n",
       "      <td>6.0</td>\n",
       "      <td>2.0</td>\n",
       "      <td>6.0</td>\n",
       "      <td>False</td>\n",
       "      <td>2.0</td>\n",
       "      <td>NaN</td>\n",
       "      <td>10.0</td>\n",
       "      <td>17.99</td>\n",
       "      <td>...</td>\n",
       "      <td>4.0</td>\n",
       "      <td>7.0</td>\n",
       "      <td>11.0</td>\n",
       "      <td>0.0</td>\n",
       "      <td>4.0</td>\n",
       "      <td>1.0</td>\n",
       "      <td>2.0</td>\n",
       "      <td>NaN</td>\n",
       "      <td>0.0</td>\n",
       "      <td>2.0</td>\n",
       "    </tr>\n",
       "    <tr>\n",
       "      <th>2</th>\n",
       "      <td>False</td>\n",
       "      <td>14.07</td>\n",
       "      <td>6.0</td>\n",
       "      <td>2.0</td>\n",
       "      <td>6.0</td>\n",
       "      <td>False</td>\n",
       "      <td>2.0</td>\n",
       "      <td>NaN</td>\n",
       "      <td>10.0</td>\n",
       "      <td>17.80</td>\n",
       "      <td>...</td>\n",
       "      <td>4.0</td>\n",
       "      <td>7.0</td>\n",
       "      <td>11.0</td>\n",
       "      <td>0.0</td>\n",
       "      <td>4.0</td>\n",
       "      <td>1.0</td>\n",
       "      <td>2.0</td>\n",
       "      <td>NaN</td>\n",
       "      <td>0.0</td>\n",
       "      <td>3.0</td>\n",
       "    </tr>\n",
       "    <tr>\n",
       "      <th>3</th>\n",
       "      <td>False</td>\n",
       "      <td>14.17</td>\n",
       "      <td>2.0</td>\n",
       "      <td>3.0</td>\n",
       "      <td>1.0</td>\n",
       "      <td>False</td>\n",
       "      <td>2.0</td>\n",
       "      <td>NaN</td>\n",
       "      <td>10.0</td>\n",
       "      <td>15.77</td>\n",
       "      <td>...</td>\n",
       "      <td>4.0</td>\n",
       "      <td>7.0</td>\n",
       "      <td>11.0</td>\n",
       "      <td>0.0</td>\n",
       "      <td>4.0</td>\n",
       "      <td>1.0</td>\n",
       "      <td>5.0</td>\n",
       "      <td>NaN</td>\n",
       "      <td>0.0</td>\n",
       "      <td>3.0</td>\n",
       "    </tr>\n",
       "    <tr>\n",
       "      <th>4</th>\n",
       "      <td>False</td>\n",
       "      <td>14.64</td>\n",
       "      <td>6.0</td>\n",
       "      <td>3.0</td>\n",
       "      <td>6.0</td>\n",
       "      <td>False</td>\n",
       "      <td>2.0</td>\n",
       "      <td>NaN</td>\n",
       "      <td>10.0</td>\n",
       "      <td>16.53</td>\n",
       "      <td>...</td>\n",
       "      <td>4.0</td>\n",
       "      <td>7.0</td>\n",
       "      <td>11.0</td>\n",
       "      <td>0.0</td>\n",
       "      <td>4.0</td>\n",
       "      <td>1.0</td>\n",
       "      <td>5.0</td>\n",
       "      <td>NaN</td>\n",
       "      <td>0.0</td>\n",
       "      <td>3.0</td>\n",
       "    </tr>\n",
       "  </tbody>\n",
       "</table>\n",
       "<p>5 rows × 21 columns</p>\n",
       "</div>"
      ],
      "text/plain": [
       "   is-edible  cap-diameter  cap-shape  cap-surface  cap-color  \\\n",
       "0      False         15.26        6.0          2.0        6.0   \n",
       "1      False         16.60        6.0          2.0        6.0   \n",
       "2      False         14.07        6.0          2.0        6.0   \n",
       "3      False         14.17        2.0          3.0        1.0   \n",
       "4      False         14.64        6.0          3.0        6.0   \n",
       "\n",
       "   does-bruise-or-bleed  gill-attachment  gill-spacing  gill-color  \\\n",
       "0                 False              2.0           NaN        10.0   \n",
       "1                 False              2.0           NaN        10.0   \n",
       "2                 False              2.0           NaN        10.0   \n",
       "3                 False              2.0           NaN        10.0   \n",
       "4                 False              2.0           NaN        10.0   \n",
       "\n",
       "   stem-height  ...  stem-root  stem-surface  stem-color  veil-type  \\\n",
       "0        16.95  ...        4.0           7.0        11.0        0.0   \n",
       "1        17.99  ...        4.0           7.0        11.0        0.0   \n",
       "2        17.80  ...        4.0           7.0        11.0        0.0   \n",
       "3        15.77  ...        4.0           7.0        11.0        0.0   \n",
       "4        16.53  ...        4.0           7.0        11.0        0.0   \n",
       "\n",
       "   veil-color  has-ring  ring-type  spore-print-color  habitat  season  \n",
       "0         4.0       1.0        2.0                NaN      0.0     3.0  \n",
       "1         4.0       1.0        2.0                NaN      0.0     2.0  \n",
       "2         4.0       1.0        2.0                NaN      0.0     3.0  \n",
       "3         4.0       1.0        5.0                NaN      0.0     3.0  \n",
       "4         4.0       1.0        5.0                NaN      0.0     3.0  \n",
       "\n",
       "[5 rows x 21 columns]"
      ]
     },
     "execution_count": 6,
     "metadata": {},
     "output_type": "execute_result"
    }
   ],
   "source": [
    "mushrooms.head()"
   ]
  },
  {
   "cell_type": "markdown",
   "metadata": {},
   "source": [
    "describe iniziale"
   ]
  },
  {
   "cell_type": "code",
   "execution_count": 7,
   "metadata": {},
   "outputs": [
    {
     "data": {
      "text/html": [
       "<div>\n",
       "<style scoped>\n",
       "    .dataframe tbody tr th:only-of-type {\n",
       "        vertical-align: middle;\n",
       "    }\n",
       "\n",
       "    .dataframe tbody tr th {\n",
       "        vertical-align: top;\n",
       "    }\n",
       "\n",
       "    .dataframe thead th {\n",
       "        text-align: right;\n",
       "    }\n",
       "</style>\n",
       "<table border=\"1\" class=\"dataframe\">\n",
       "  <thead>\n",
       "    <tr style=\"text-align: right;\">\n",
       "      <th></th>\n",
       "      <th>cap-diameter</th>\n",
       "      <th>cap-shape</th>\n",
       "      <th>cap-surface</th>\n",
       "      <th>cap-color</th>\n",
       "      <th>gill-attachment</th>\n",
       "      <th>gill-spacing</th>\n",
       "      <th>gill-color</th>\n",
       "      <th>stem-height</th>\n",
       "      <th>stem-width</th>\n",
       "      <th>stem-root</th>\n",
       "      <th>stem-surface</th>\n",
       "      <th>stem-color</th>\n",
       "      <th>veil-type</th>\n",
       "      <th>veil-color</th>\n",
       "      <th>has-ring</th>\n",
       "      <th>ring-type</th>\n",
       "      <th>spore-print-color</th>\n",
       "      <th>habitat</th>\n",
       "      <th>season</th>\n",
       "    </tr>\n",
       "  </thead>\n",
       "  <tbody>\n",
       "    <tr>\n",
       "      <th>count</th>\n",
       "      <td>61069.000000</td>\n",
       "      <td>61069.000000</td>\n",
       "      <td>46949.000000</td>\n",
       "      <td>61069.000000</td>\n",
       "      <td>51185.000000</td>\n",
       "      <td>36006.000000</td>\n",
       "      <td>61069.000000</td>\n",
       "      <td>61069.000000</td>\n",
       "      <td>61069.000000</td>\n",
       "      <td>9531.000000</td>\n",
       "      <td>22945.000000</td>\n",
       "      <td>61069.000000</td>\n",
       "      <td>3177.0</td>\n",
       "      <td>7413.000000</td>\n",
       "      <td>61069.000000</td>\n",
       "      <td>58598.000000</td>\n",
       "      <td>6354.000000</td>\n",
       "      <td>61069.000000</td>\n",
       "      <td>61069.000000</td>\n",
       "    </tr>\n",
       "    <tr>\n",
       "      <th>mean</th>\n",
       "      <td>6.733854</td>\n",
       "      <td>4.041641</td>\n",
       "      <td>5.483077</td>\n",
       "      <td>6.144541</td>\n",
       "      <td>2.517437</td>\n",
       "      <td>0.411765</td>\n",
       "      <td>7.338502</td>\n",
       "      <td>6.581538</td>\n",
       "      <td>12.149410</td>\n",
       "      <td>2.074074</td>\n",
       "      <td>4.485334</td>\n",
       "      <td>8.429072</td>\n",
       "      <td>0.0</td>\n",
       "      <td>3.641306</td>\n",
       "      <td>0.248555</td>\n",
       "      <td>1.468975</td>\n",
       "      <td>2.656437</td>\n",
       "      <td>0.623721</td>\n",
       "      <td>1.053300</td>\n",
       "    </tr>\n",
       "    <tr>\n",
       "      <th>std</th>\n",
       "      <td>5.264845</td>\n",
       "      <td>2.138630</td>\n",
       "      <td>3.277637</td>\n",
       "      <td>3.171077</td>\n",
       "      <td>2.184753</td>\n",
       "      <td>0.662046</td>\n",
       "      <td>3.186426</td>\n",
       "      <td>3.370017</td>\n",
       "      <td>10.035955</td>\n",
       "      <td>1.698147</td>\n",
       "      <td>2.035054</td>\n",
       "      <td>3.218516</td>\n",
       "      <td>0.0</td>\n",
       "      <td>1.045332</td>\n",
       "      <td>0.432179</td>\n",
       "      <td>1.495966</td>\n",
       "      <td>1.934103</td>\n",
       "      <td>1.265880</td>\n",
       "      <td>1.100575</td>\n",
       "    </tr>\n",
       "    <tr>\n",
       "      <th>min</th>\n",
       "      <td>0.380000</td>\n",
       "      <td>0.000000</td>\n",
       "      <td>0.000000</td>\n",
       "      <td>0.000000</td>\n",
       "      <td>0.000000</td>\n",
       "      <td>0.000000</td>\n",
       "      <td>0.000000</td>\n",
       "      <td>0.000000</td>\n",
       "      <td>0.000000</td>\n",
       "      <td>0.000000</td>\n",
       "      <td>0.000000</td>\n",
       "      <td>0.000000</td>\n",
       "      <td>0.0</td>\n",
       "      <td>0.000000</td>\n",
       "      <td>0.000000</td>\n",
       "      <td>0.000000</td>\n",
       "      <td>0.000000</td>\n",
       "      <td>0.000000</td>\n",
       "      <td>0.000000</td>\n",
       "    </tr>\n",
       "    <tr>\n",
       "      <th>25%</th>\n",
       "      <td>3.480000</td>\n",
       "      <td>2.000000</td>\n",
       "      <td>2.000000</td>\n",
       "      <td>5.000000</td>\n",
       "      <td>1.000000</td>\n",
       "      <td>0.000000</td>\n",
       "      <td>5.000000</td>\n",
       "      <td>4.640000</td>\n",
       "      <td>5.210000</td>\n",
       "      <td>0.000000</td>\n",
       "      <td>3.000000</td>\n",
       "      <td>6.000000</td>\n",
       "      <td>0.0</td>\n",
       "      <td>4.000000</td>\n",
       "      <td>0.000000</td>\n",
       "      <td>1.000000</td>\n",
       "      <td>1.000000</td>\n",
       "      <td>0.000000</td>\n",
       "      <td>0.000000</td>\n",
       "    </tr>\n",
       "    <tr>\n",
       "      <th>50%</th>\n",
       "      <td>5.860000</td>\n",
       "      <td>5.000000</td>\n",
       "      <td>7.000000</td>\n",
       "      <td>5.000000</td>\n",
       "      <td>2.000000</td>\n",
       "      <td>0.000000</td>\n",
       "      <td>7.000000</td>\n",
       "      <td>5.950000</td>\n",
       "      <td>10.190000</td>\n",
       "      <td>2.000000</td>\n",
       "      <td>5.000000</td>\n",
       "      <td>11.000000</td>\n",
       "      <td>0.0</td>\n",
       "      <td>4.000000</td>\n",
       "      <td>0.000000</td>\n",
       "      <td>1.000000</td>\n",
       "      <td>2.000000</td>\n",
       "      <td>0.000000</td>\n",
       "      <td>1.000000</td>\n",
       "    </tr>\n",
       "    <tr>\n",
       "      <th>75%</th>\n",
       "      <td>8.540000</td>\n",
       "      <td>6.000000</td>\n",
       "      <td>8.000000</td>\n",
       "      <td>10.000000</td>\n",
       "      <td>5.000000</td>\n",
       "      <td>1.000000</td>\n",
       "      <td>10.000000</td>\n",
       "      <td>7.740000</td>\n",
       "      <td>16.570000</td>\n",
       "      <td>4.000000</td>\n",
       "      <td>6.000000</td>\n",
       "      <td>11.000000</td>\n",
       "      <td>0.0</td>\n",
       "      <td>4.000000</td>\n",
       "      <td>0.000000</td>\n",
       "      <td>1.000000</td>\n",
       "      <td>3.000000</td>\n",
       "      <td>1.000000</td>\n",
       "      <td>2.000000</td>\n",
       "    </tr>\n",
       "    <tr>\n",
       "      <th>max</th>\n",
       "      <td>62.340000</td>\n",
       "      <td>6.000000</td>\n",
       "      <td>10.000000</td>\n",
       "      <td>11.000000</td>\n",
       "      <td>6.000000</td>\n",
       "      <td>2.000000</td>\n",
       "      <td>11.000000</td>\n",
       "      <td>33.920000</td>\n",
       "      <td>103.910000</td>\n",
       "      <td>4.000000</td>\n",
       "      <td>7.000000</td>\n",
       "      <td>12.000000</td>\n",
       "      <td>0.0</td>\n",
       "      <td>5.000000</td>\n",
       "      <td>1.000000</td>\n",
       "      <td>7.000000</td>\n",
       "      <td>6.000000</td>\n",
       "      <td>7.000000</td>\n",
       "      <td>3.000000</td>\n",
       "    </tr>\n",
       "  </tbody>\n",
       "</table>\n",
       "</div>"
      ],
      "text/plain": [
       "       cap-diameter     cap-shape   cap-surface     cap-color  \\\n",
       "count  61069.000000  61069.000000  46949.000000  61069.000000   \n",
       "mean       6.733854      4.041641      5.483077      6.144541   \n",
       "std        5.264845      2.138630      3.277637      3.171077   \n",
       "min        0.380000      0.000000      0.000000      0.000000   \n",
       "25%        3.480000      2.000000      2.000000      5.000000   \n",
       "50%        5.860000      5.000000      7.000000      5.000000   \n",
       "75%        8.540000      6.000000      8.000000     10.000000   \n",
       "max       62.340000      6.000000     10.000000     11.000000   \n",
       "\n",
       "       gill-attachment  gill-spacing    gill-color   stem-height  \\\n",
       "count     51185.000000  36006.000000  61069.000000  61069.000000   \n",
       "mean          2.517437      0.411765      7.338502      6.581538   \n",
       "std           2.184753      0.662046      3.186426      3.370017   \n",
       "min           0.000000      0.000000      0.000000      0.000000   \n",
       "25%           1.000000      0.000000      5.000000      4.640000   \n",
       "50%           2.000000      0.000000      7.000000      5.950000   \n",
       "75%           5.000000      1.000000     10.000000      7.740000   \n",
       "max           6.000000      2.000000     11.000000     33.920000   \n",
       "\n",
       "         stem-width    stem-root  stem-surface    stem-color  veil-type  \\\n",
       "count  61069.000000  9531.000000  22945.000000  61069.000000     3177.0   \n",
       "mean      12.149410     2.074074      4.485334      8.429072        0.0   \n",
       "std       10.035955     1.698147      2.035054      3.218516        0.0   \n",
       "min        0.000000     0.000000      0.000000      0.000000        0.0   \n",
       "25%        5.210000     0.000000      3.000000      6.000000        0.0   \n",
       "50%       10.190000     2.000000      5.000000     11.000000        0.0   \n",
       "75%       16.570000     4.000000      6.000000     11.000000        0.0   \n",
       "max      103.910000     4.000000      7.000000     12.000000        0.0   \n",
       "\n",
       "        veil-color      has-ring     ring-type  spore-print-color  \\\n",
       "count  7413.000000  61069.000000  58598.000000        6354.000000   \n",
       "mean      3.641306      0.248555      1.468975           2.656437   \n",
       "std       1.045332      0.432179      1.495966           1.934103   \n",
       "min       0.000000      0.000000      0.000000           0.000000   \n",
       "25%       4.000000      0.000000      1.000000           1.000000   \n",
       "50%       4.000000      0.000000      1.000000           2.000000   \n",
       "75%       4.000000      0.000000      1.000000           3.000000   \n",
       "max       5.000000      1.000000      7.000000           6.000000   \n",
       "\n",
       "            habitat        season  \n",
       "count  61069.000000  61069.000000  \n",
       "mean       0.623721      1.053300  \n",
       "std        1.265880      1.100575  \n",
       "min        0.000000      0.000000  \n",
       "25%        0.000000      0.000000  \n",
       "50%        0.000000      1.000000  \n",
       "75%        1.000000      2.000000  \n",
       "max        7.000000      3.000000  "
      ]
     },
     "execution_count": 7,
     "metadata": {},
     "output_type": "execute_result"
    }
   ],
   "source": [
    "mushrooms.describe()"
   ]
  },
  {
   "cell_type": "markdown",
   "metadata": {},
   "source": [
    "-----"
   ]
  },
  {
   "cell_type": "markdown",
   "metadata": {},
   "source": [
    "Analisi esplorativa"
   ]
  },
  {
   "cell_type": "code",
   "execution_count": 8,
   "metadata": {},
   "outputs": [
    {
     "data": {
      "text/plain": [
       "is-edible\n",
       "False    33888\n",
       "True     27181\n",
       "Name: count, dtype: int64"
      ]
     },
     "execution_count": 8,
     "metadata": {},
     "output_type": "execute_result"
    }
   ],
   "source": [
    "mushrooms[\"is-edible\"].value_counts()"
   ]
  },
  {
   "cell_type": "code",
   "execution_count": 9,
   "metadata": {},
   "outputs": [
    {
     "data": {
      "text/plain": [
       "<Axes: ylabel='count'>"
      ]
     },
     "execution_count": 9,
     "metadata": {},
     "output_type": "execute_result"
    },
    {
     "data": {
      "image/png": "[encoded data removed]",
      "text/plain": [
       "<Figure size 640x480 with 1 Axes>"
      ]
     },
     "metadata": {},
     "output_type": "display_data"
    }
   ],
   "source": [
    "mushrooms[\"is-edible\"].value_counts().plot.pie()"
   ]
  },
  {
   "cell_type": "code",
   "execution_count": 10,
   "metadata": {},
   "outputs": [
    {
     "data": {
      "text/plain": [
       "<Axes: ylabel='Frequency'>"
      ]
     },
     "execution_count": 10,
     "metadata": {},
     "output_type": "execute_result"
    },
    {
     "data": {
      "image/png": "[encoded data removed]",
      "text/plain": [
       "<Figure size 640x480 with 1 Axes>"
      ]
     },
     "metadata": {},
     "output_type": "display_data"
    }
   ],
   "source": [
    "mushrooms[\"cap-diameter\"].plot.hist(bins=30)"
   ]
  },
  {
   "cell_type": "code",
   "execution_count": 11,
   "metadata": {},
   "outputs": [
    {
     "data": {
      "text/plain": [
       "<Axes: xlabel='stem-height', ylabel='stem-width'>"
      ]
     },
     "execution_count": 11,
     "metadata": {},
     "output_type": "execute_result"
    },
    {
     "data": {
      "image/png": "[encoded data removed]",
      "text/plain": [
       "<Figure size 640x480 with 1 Axes>"
      ]
     },
     "metadata": {},
     "output_type": "display_data"
    }
   ],
   "source": [
    "mushrooms.plot.scatter(\"stem-height\", \"stem-width\")"
   ]
  },
  {
   "cell_type": "code",
   "execution_count": 12,
   "metadata": {},
   "outputs": [],
   "source": [
    "class_color_map = {True: \"blue\", False: \"red\"}\n",
    "class_colors = mushrooms[\"is-edible\"].map(class_color_map)"
   ]
  },
  {
   "cell_type": "code",
   "execution_count": 13,
   "metadata": {},
   "outputs": [
    {
     "data": {
      "text/plain": [
       "<Axes: xlabel='stem-height', ylabel='stem-width'>"
      ]
     },
     "execution_count": 13,
     "metadata": {},
     "output_type": "execute_result"
    },
    {
     "data": {
      "image/png": "[encoded data removed]",
      "text/plain": [
       "<Figure size 640x480 with 1 Axes>"
      ]
     },
     "metadata": {},
     "output_type": "display_data"
    }
   ],
   "source": [
    "mushrooms.plot.scatter(\"stem-height\", \"stem-width\", c=class_colors)"
   ]
  },
  {
   "cell_type": "markdown",
   "metadata": {},
   "source": [
    "----"
   ]
  },
  {
   "cell_type": "markdown",
   "metadata": {},
   "source": [
    "Controlliamo quanti valori NaN ci sono"
   ]
  },
  {
   "cell_type": "code",
   "execution_count": 14,
   "metadata": {},
   "outputs": [],
   "source": [
    "def print_na_percentages(df):\n",
    "    return df.isna().sum() / df.shape[0] * 100"
   ]
  },
  {
   "cell_type": "code",
   "execution_count": 15,
   "metadata": {},
   "outputs": [
    {
     "data": {
      "text/plain": [
       "is-edible                0.000000\n",
       "cap-diameter             0.000000\n",
       "cap-shape                0.000000\n",
       "cap-surface             23.121387\n",
       "cap-color                0.000000\n",
       "does-bruise-or-bleed     0.000000\n",
       "gill-attachment         16.184971\n",
       "gill-spacing            41.040462\n",
       "gill-color               0.000000\n",
       "stem-height              0.000000\n",
       "stem-width               0.000000\n",
       "stem-root               84.393064\n",
       "stem-surface            62.427746\n",
       "stem-color               0.000000\n",
       "veil-type               94.797688\n",
       "veil-color              87.861272\n",
       "has-ring                 0.000000\n",
       "ring-type                4.046243\n",
       "spore-print-color       89.595376\n",
       "habitat                  0.000000\n",
       "season                   0.000000\n",
       "dtype: float64"
      ]
     },
     "execution_count": 15,
     "metadata": {},
     "output_type": "execute_result"
    }
   ],
   "source": [
    "print_na_percentages(mushrooms)"
   ]
  },
  {
   "cell_type": "markdown",
   "metadata": {},
   "source": [
    "Estraiamo le colonne che hanno piu' dell'80% di valori nulli nel dataset"
   ]
  },
  {
   "cell_type": "code",
   "execution_count": 16,
   "metadata": {},
   "outputs": [
    {
     "name": "stdout",
     "output_type": "stream",
     "text": [
      "['stem-root', 'veil-type', 'veil-color', 'spore-print-color']\n"
     ]
    }
   ],
   "source": [
    "columns_to_drop = [column for column in mushrooms.columns if mushrooms[column].isna().mean() > 0.80]\n",
    "print(columns_to_drop)"
   ]
  },
  {
   "cell_type": "markdown",
   "metadata": {},
   "source": [
    "Delete all rows that have NaN values in all of those columns"
   ]
  },
  {
   "cell_type": "code",
   "execution_count": 17,
   "metadata": {},
   "outputs": [],
   "source": [
    "mushrooms.dropna(subset=columns_to_drop, how='all', inplace=True)"
   ]
  },
  {
   "cell_type": "markdown",
   "metadata": {},
   "source": [
    "Check again if there a lot of NaN values"
   ]
  },
  {
   "cell_type": "code",
   "execution_count": 18,
   "metadata": {},
   "outputs": [
    {
     "data": {
      "text/plain": [
       "is-edible                0.000000\n",
       "cap-diameter             0.000000\n",
       "cap-shape                0.000000\n",
       "cap-surface             23.076923\n",
       "cap-color                0.000000\n",
       "does-bruise-or-bleed     0.000000\n",
       "gill-attachment         23.076923\n",
       "gill-spacing            51.923077\n",
       "gill-color               0.000000\n",
       "stem-height              0.000000\n",
       "stem-width               0.000000\n",
       "stem-root               48.076923\n",
       "stem-surface            61.538462\n",
       "stem-color               0.000000\n",
       "veil-type               82.692308\n",
       "veil-color              59.615385\n",
       "has-ring                 0.000000\n",
       "ring-type                7.692308\n",
       "spore-print-color       65.384615\n",
       "habitat                  0.000000\n",
       "season                   0.000000\n",
       "dtype: float64"
      ]
     },
     "execution_count": 18,
     "metadata": {},
     "output_type": "execute_result"
    }
   ],
   "source": [
    "print_na_percentages(mushrooms)"
   ]
  },
  {
   "cell_type": "markdown",
   "metadata": {},
   "source": [
    "We have cleaned up a lot. we now delete the veil-type feature"
   ]
  },
  {
   "cell_type": "code",
   "execution_count": 19,
   "metadata": {},
   "outputs": [
    {
     "data": {
      "text/plain": [
       "is-edible                0.000000\n",
       "cap-diameter             0.000000\n",
       "cap-shape                0.000000\n",
       "cap-surface             23.076923\n",
       "cap-color                0.000000\n",
       "does-bruise-or-bleed     0.000000\n",
       "gill-attachment         23.076923\n",
       "gill-spacing            51.923077\n",
       "gill-color               0.000000\n",
       "stem-height              0.000000\n",
       "stem-width               0.000000\n",
       "stem-root               48.076923\n",
       "stem-surface            61.538462\n",
       "stem-color               0.000000\n",
       "veil-color              59.615385\n",
       "has-ring                 0.000000\n",
       "ring-type                7.692308\n",
       "spore-print-color       65.384615\n",
       "habitat                  0.000000\n",
       "season                   0.000000\n",
       "dtype: float64"
      ]
     },
     "execution_count": 19,
     "metadata": {},
     "output_type": "execute_result"
    }
   ],
   "source": [
    "mushrooms.drop(columns=\"veil-type\", inplace=True)\n",
    "\n",
    "print_na_percentages(mushrooms)"
   ]
  },
  {
   "cell_type": "markdown",
   "metadata": {},
   "source": [
    "Fill na values with mean"
   ]
  },
  {
   "cell_type": "code",
   "execution_count": 20,
   "metadata": {},
   "outputs": [
    {
     "data": {
      "text/plain": [
       "is-edible               0.0\n",
       "cap-diameter            0.0\n",
       "cap-shape               0.0\n",
       "cap-surface             0.0\n",
       "cap-color               0.0\n",
       "does-bruise-or-bleed    0.0\n",
       "gill-attachment         0.0\n",
       "gill-spacing            0.0\n",
       "gill-color              0.0\n",
       "stem-height             0.0\n",
       "stem-width              0.0\n",
       "stem-root               0.0\n",
       "stem-surface            0.0\n",
       "stem-color              0.0\n",
       "veil-color              0.0\n",
       "has-ring                0.0\n",
       "ring-type               0.0\n",
       "spore-print-color       0.0\n",
       "habitat                 0.0\n",
       "season                  0.0\n",
       "dtype: float64"
      ]
     },
     "execution_count": 20,
     "metadata": {},
     "output_type": "execute_result"
    }
   ],
   "source": [
    "columns_to_fill = mushrooms.columns[mushrooms.isna().any()]\n",
    "\n",
    "imputer = SimpleImputer(strategy=\"mean\")\n",
    "# imputer = KNNImputer()\n",
    "mushrooms[columns_to_fill] = imputer.fit_transform(mushrooms[columns_to_fill])\n",
    "\n",
    "print_na_percentages(mushrooms)"
   ]
  },
  {
   "cell_type": "markdown",
   "metadata": {},
   "source": [
    "Check memory optimization"
   ]
  },
  {
   "cell_type": "code",
   "execution_count": 21,
   "metadata": {},
   "outputs": [
    {
     "name": "stdout",
     "output_type": "stream",
     "text": [
      "<class 'pandas.core.frame.DataFrame'>\n",
      "Index: 18356 entries, 0 to 58244\n",
      "Data columns (total 20 columns):\n",
      " #   Column                Non-Null Count  Dtype  \n",
      "---  ------                --------------  -----  \n",
      " 0   is-edible             18356 non-null  bool   \n",
      " 1   cap-diameter          18356 non-null  float64\n",
      " 2   cap-shape             18356 non-null  float64\n",
      " 3   cap-surface           18356 non-null  float64\n",
      " 4   cap-color             18356 non-null  float64\n",
      " 5   does-bruise-or-bleed  18356 non-null  bool   \n",
      " 6   gill-attachment       18356 non-null  float64\n",
      " 7   gill-spacing          18356 non-null  float64\n",
      " 8   gill-color            18356 non-null  float64\n",
      " 9   stem-height           18356 non-null  float64\n",
      " 10  stem-width            18356 non-null  float64\n",
      " 11  stem-root             18356 non-null  float64\n",
      " 12  stem-surface          18356 non-null  float64\n",
      " 13  stem-color            18356 non-null  float64\n",
      " 14  veil-color            18356 non-null  float64\n",
      " 15  has-ring              18356 non-null  float64\n",
      " 16  ring-type             18356 non-null  float64\n",
      " 17  spore-print-color     18356 non-null  float64\n",
      " 18  habitat               18356 non-null  float64\n",
      " 19  season                18356 non-null  float64\n",
      "dtypes: bool(2), float64(18)\n",
      "memory usage: 2.7 MB\n"
     ]
    }
   ],
   "source": [
    "mushrooms.info(memory_usage=\"deep\")"
   ]
  },
  {
   "cell_type": "markdown",
   "metadata": {},
   "source": [
    "Check if there are columns with the same value for at least 99% of instances"
   ]
  },
  {
   "cell_type": "code",
   "execution_count": 22,
   "metadata": {},
   "outputs": [
    {
     "data": {
      "text/plain": [
       "[]"
      ]
     },
     "execution_count": 22,
     "metadata": {},
     "output_type": "execute_result"
    }
   ],
   "source": [
    "sel = VarianceThreshold(threshold=0.01)\n",
    "sel.fit(mushrooms)\n",
    "\n",
    "[column for column in mushrooms.columns if column not in sel.get_feature_names_out()]"
   ]
  },
  {
   "cell_type": "markdown",
   "metadata": {},
   "source": [
    "Normalize the data"
   ]
  },
  {
   "cell_type": "code",
   "execution_count": 23,
   "metadata": {},
   "outputs": [],
   "source": [
    "float_columns = mushrooms.select_dtypes(include=\"float64\").columns\n",
    "\n",
    "normalizer = Normalizer(norm=\"l2\")\n",
    "mushrooms[float_columns] = normalizer.fit_transform(mushrooms[float_columns])"
   ]
  },
  {
   "cell_type": "markdown",
   "metadata": {},
   "source": [
    "end result"
   ]
  },
  {
   "cell_type": "code",
   "execution_count": 24,
   "metadata": {},
   "outputs": [
    {
     "data": {
      "text/html": [
       "<div>\n",
       "<style scoped>\n",
       "    .dataframe tbody tr th:only-of-type {\n",
       "        vertical-align: middle;\n",
       "    }\n",
       "\n",
       "    .dataframe tbody tr th {\n",
       "        vertical-align: top;\n",
       "    }\n",
       "\n",
       "    .dataframe thead th {\n",
       "        text-align: right;\n",
       "    }\n",
       "</style>\n",
       "<table border=\"1\" class=\"dataframe\">\n",
       "  <thead>\n",
       "    <tr style=\"text-align: right;\">\n",
       "      <th></th>\n",
       "      <th>cap-diameter</th>\n",
       "      <th>cap-shape</th>\n",
       "      <th>cap-surface</th>\n",
       "      <th>cap-color</th>\n",
       "      <th>gill-attachment</th>\n",
       "      <th>gill-spacing</th>\n",
       "      <th>gill-color</th>\n",
       "      <th>stem-height</th>\n",
       "      <th>stem-width</th>\n",
       "      <th>stem-root</th>\n",
       "      <th>stem-surface</th>\n",
       "      <th>stem-color</th>\n",
       "      <th>veil-color</th>\n",
       "      <th>has-ring</th>\n",
       "      <th>ring-type</th>\n",
       "      <th>spore-print-color</th>\n",
       "      <th>habitat</th>\n",
       "      <th>season</th>\n",
       "    </tr>\n",
       "  </thead>\n",
       "  <tbody>\n",
       "    <tr>\n",
       "      <th>count</th>\n",
       "      <td>18356.000000</td>\n",
       "      <td>18356.000000</td>\n",
       "      <td>18356.000000</td>\n",
       "      <td>18356.000000</td>\n",
       "      <td>18356.000000</td>\n",
       "      <td>18356.000000</td>\n",
       "      <td>18356.000000</td>\n",
       "      <td>18356.000000</td>\n",
       "      <td>18356.000000</td>\n",
       "      <td>18356.000000</td>\n",
       "      <td>18356.000000</td>\n",
       "      <td>18356.000000</td>\n",
       "      <td>18356.000000</td>\n",
       "      <td>18356.000000</td>\n",
       "      <td>18356.000000</td>\n",
       "      <td>18356.000000</td>\n",
       "      <td>18356.000000</td>\n",
       "      <td>18356.000000</td>\n",
       "    </tr>\n",
       "    <tr>\n",
       "      <th>mean</th>\n",
       "      <td>0.276645</td>\n",
       "      <td>0.174110</td>\n",
       "      <td>0.236568</td>\n",
       "      <td>0.228206</td>\n",
       "      <td>0.123571</td>\n",
       "      <td>0.018651</td>\n",
       "      <td>0.301493</td>\n",
       "      <td>0.304672</td>\n",
       "      <td>0.454193</td>\n",
       "      <td>0.086282</td>\n",
       "      <td>0.162023</td>\n",
       "      <td>0.334076</td>\n",
       "      <td>0.155399</td>\n",
       "      <td>0.018086</td>\n",
       "      <td>0.083099</td>\n",
       "      <td>0.111703</td>\n",
       "      <td>0.023088</td>\n",
       "      <td>0.045196</td>\n",
       "    </tr>\n",
       "    <tr>\n",
       "      <th>std</th>\n",
       "      <td>0.098991</td>\n",
       "      <td>0.105205</td>\n",
       "      <td>0.130787</td>\n",
       "      <td>0.126330</td>\n",
       "      <td>0.090270</td>\n",
       "      <td>0.033424</td>\n",
       "      <td>0.125607</td>\n",
       "      <td>0.129185</td>\n",
       "      <td>0.219216</td>\n",
       "      <td>0.052238</td>\n",
       "      <td>0.075581</td>\n",
       "      <td>0.130663</td>\n",
       "      <td>0.060690</td>\n",
       "      <td>0.020850</td>\n",
       "      <td>0.080438</td>\n",
       "      <td>0.057883</td>\n",
       "      <td>0.043105</td>\n",
       "      <td>0.052163</td>\n",
       "    </tr>\n",
       "    <tr>\n",
       "      <th>min</th>\n",
       "      <td>0.024274</td>\n",
       "      <td>0.000000</td>\n",
       "      <td>0.000000</td>\n",
       "      <td>0.000000</td>\n",
       "      <td>0.000000</td>\n",
       "      <td>0.000000</td>\n",
       "      <td>0.021487</td>\n",
       "      <td>0.000000</td>\n",
       "      <td>0.000000</td>\n",
       "      <td>0.000000</td>\n",
       "      <td>0.000000</td>\n",
       "      <td>0.045043</td>\n",
       "      <td>0.000000</td>\n",
       "      <td>0.000000</td>\n",
       "      <td>0.000000</td>\n",
       "      <td>0.000000</td>\n",
       "      <td>0.000000</td>\n",
       "      <td>0.000000</td>\n",
       "    </tr>\n",
       "    <tr>\n",
       "      <th>25%</th>\n",
       "      <td>0.211462</td>\n",
       "      <td>0.085816</td>\n",
       "      <td>0.151200</td>\n",
       "      <td>0.142901</td>\n",
       "      <td>0.063245</td>\n",
       "      <td>0.000000</td>\n",
       "      <td>0.208060</td>\n",
       "      <td>0.234490</td>\n",
       "      <td>0.324738</td>\n",
       "      <td>0.066379</td>\n",
       "      <td>0.120580</td>\n",
       "      <td>0.235794</td>\n",
       "      <td>0.116500</td>\n",
       "      <td>0.000000</td>\n",
       "      <td>0.036908</td>\n",
       "      <td>0.078174</td>\n",
       "      <td>0.000000</td>\n",
       "      <td>0.000000</td>\n",
       "    </tr>\n",
       "    <tr>\n",
       "      <th>50%</th>\n",
       "      <td>0.277863</td>\n",
       "      <td>0.185476</td>\n",
       "      <td>0.236960</td>\n",
       "      <td>0.209778</td>\n",
       "      <td>0.101425</td>\n",
       "      <td>0.013001</td>\n",
       "      <td>0.307916</td>\n",
       "      <td>0.295264</td>\n",
       "      <td>0.477249</td>\n",
       "      <td>0.090434</td>\n",
       "      <td>0.148278</td>\n",
       "      <td>0.345513</td>\n",
       "      <td>0.146866</td>\n",
       "      <td>0.000000</td>\n",
       "      <td>0.058382</td>\n",
       "      <td>0.098765</td>\n",
       "      <td>0.000000</td>\n",
       "      <td>0.036471</td>\n",
       "    </tr>\n",
       "    <tr>\n",
       "      <th>75%</th>\n",
       "      <td>0.341813</td>\n",
       "      <td>0.240613</td>\n",
       "      <td>0.308781</td>\n",
       "      <td>0.317077</td>\n",
       "      <td>0.198133</td>\n",
       "      <td>0.020872</td>\n",
       "      <td>0.377959</td>\n",
       "      <td>0.372375</td>\n",
       "      <td>0.605640</td>\n",
       "      <td>0.120256</td>\n",
       "      <td>0.205624</td>\n",
       "      <td>0.413767</td>\n",
       "      <td>0.185259</td>\n",
       "      <td>0.036085</td>\n",
       "      <td>0.094658</td>\n",
       "      <td>0.126466</td>\n",
       "      <td>0.043583</td>\n",
       "      <td>0.082302</td>\n",
       "    </tr>\n",
       "    <tr>\n",
       "      <th>max</th>\n",
       "      <td>0.604092</td>\n",
       "      <td>0.525572</td>\n",
       "      <td>0.643977</td>\n",
       "      <td>0.721806</td>\n",
       "      <td>0.392867</td>\n",
       "      <td>0.200359</td>\n",
       "      <td>0.681928</td>\n",
       "      <td>0.710359</td>\n",
       "      <td>0.976109</td>\n",
       "      <td>0.210582</td>\n",
       "      <td>0.448207</td>\n",
       "      <td>0.685185</td>\n",
       "      <td>0.364784</td>\n",
       "      <td>0.091997</td>\n",
       "      <td>0.409427</td>\n",
       "      <td>0.386080</td>\n",
       "      <td>0.233965</td>\n",
       "      <td>0.287085</td>\n",
       "    </tr>\n",
       "  </tbody>\n",
       "</table>\n",
       "</div>"
      ],
      "text/plain": [
       "       cap-diameter     cap-shape   cap-surface     cap-color  \\\n",
       "count  18356.000000  18356.000000  18356.000000  18356.000000   \n",
       "mean       0.276645      0.174110      0.236568      0.228206   \n",
       "std        0.098991      0.105205      0.130787      0.126330   \n",
       "min        0.024274      0.000000      0.000000      0.000000   \n",
       "25%        0.211462      0.085816      0.151200      0.142901   \n",
       "50%        0.277863      0.185476      0.236960      0.209778   \n",
       "75%        0.341813      0.240613      0.308781      0.317077   \n",
       "max        0.604092      0.525572      0.643977      0.721806   \n",
       "\n",
       "       gill-attachment  gill-spacing    gill-color   stem-height  \\\n",
       "count     18356.000000  18356.000000  18356.000000  18356.000000   \n",
       "mean          0.123571      0.018651      0.301493      0.304672   \n",
       "std           0.090270      0.033424      0.125607      0.129185   \n",
       "min           0.000000      0.000000      0.021487      0.000000   \n",
       "25%           0.063245      0.000000      0.208060      0.234490   \n",
       "50%           0.101425      0.013001      0.307916      0.295264   \n",
       "75%           0.198133      0.020872      0.377959      0.372375   \n",
       "max           0.392867      0.200359      0.681928      0.710359   \n",
       "\n",
       "         stem-width     stem-root  stem-surface    stem-color    veil-color  \\\n",
       "count  18356.000000  18356.000000  18356.000000  18356.000000  18356.000000   \n",
       "mean       0.454193      0.086282      0.162023      0.334076      0.155399   \n",
       "std        0.219216      0.052238      0.075581      0.130663      0.060690   \n",
       "min        0.000000      0.000000      0.000000      0.045043      0.000000   \n",
       "25%        0.324738      0.066379      0.120580      0.235794      0.116500   \n",
       "50%        0.477249      0.090434      0.148278      0.345513      0.146866   \n",
       "75%        0.605640      0.120256      0.205624      0.413767      0.185259   \n",
       "max        0.976109      0.210582      0.448207      0.685185      0.364784   \n",
       "\n",
       "           has-ring     ring-type  spore-print-color       habitat  \\\n",
       "count  18356.000000  18356.000000       18356.000000  18356.000000   \n",
       "mean       0.018086      0.083099           0.111703      0.023088   \n",
       "std        0.020850      0.080438           0.057883      0.043105   \n",
       "min        0.000000      0.000000           0.000000      0.000000   \n",
       "25%        0.000000      0.036908           0.078174      0.000000   \n",
       "50%        0.000000      0.058382           0.098765      0.000000   \n",
       "75%        0.036085      0.094658           0.126466      0.043583   \n",
       "max        0.091997      0.409427           0.386080      0.233965   \n",
       "\n",
       "             season  \n",
       "count  18356.000000  \n",
       "mean       0.045196  \n",
       "std        0.052163  \n",
       "min        0.000000  \n",
       "25%        0.000000  \n",
       "50%        0.036471  \n",
       "75%        0.082302  \n",
       "max        0.287085  "
      ]
     },
     "execution_count": 24,
     "metadata": {},
     "output_type": "execute_result"
    }
   ],
   "source": [
    "mushrooms.to_csv(\"mushrooms_cleaned.csv\", index=False)\n",
    "mushrooms.describe()"
   ]
  }
 ],
 "metadata": {
  "kernelspec": {
   "display_name": "Python 3",
   "language": "python",
   "name": "python3"
  },
  "language_info": {
   "codemirror_mode": {
    "name": "ipython",
    "version": 3
   },
   "file_extension": ".py",
   "mimetype": "text/x-python",
   "name": "python",
   "nbconvert_exporter": "python",
   "pygments_lexer": "ipython3",
   "version": "3.12.3"
  }
 },
 "nbformat": 4,
 "nbformat_minor": 2
}

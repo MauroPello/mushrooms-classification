{
 "cells": [
  {
   "cell_type": "code",
   "execution_count": 24,
   "metadata": {},
   "outputs": [],
   "source": [
    "# setup e test librerie\n",
    "%matplotlib inline\n",
    "import numpy as np\n",
    "import pandas as pd\n",
    "import matplotlib.pyplot as plt"
   ]
  },
  {
   "cell_type": "markdown",
   "metadata": {},
   "source": [
    "https://archive.ics.uci.edu/dataset/848/secondary+mushroom+dataset\n",
    "\n",
    "Obiettivo: classificare i funghi in velenosi o commestibili\n",
    "\n",
    "Parlare della struttura e delle variabili contenute (magari menzionare che ho scelto questo invece che l'original e perche ha 3 valori continui). \n",
    "\n",
    "Nominare anche le cose spiegate nella descrizione e tutto. Si prende solo il 30% dei dati perche ci sono 60mila campioni totali\n",
    "\n",
    "PCA?"
   ]
  },
  {
   "cell_type": "code",
   "execution_count": 25,
   "metadata": {},
   "outputs": [
    {
     "name": "stdout",
     "output_type": "stream",
     "text": [
      "<class 'pandas.core.frame.DataFrame'>\n",
      "RangeIndex: 61069 entries, 0 to 61068\n",
      "Data columns (total 21 columns):\n",
      " #   Column                Non-Null Count  Dtype  \n",
      "---  ------                --------------  -----  \n",
      " 0   class                 61069 non-null  object \n",
      " 1   cap-diameter          61069 non-null  float64\n",
      " 2   cap-shape             61069 non-null  object \n",
      " 3   cap-surface           46949 non-null  object \n",
      " 4   cap-color             61069 non-null  object \n",
      " 5   does-bruise-or-bleed  61069 non-null  object \n",
      " 6   gill-attachment       51185 non-null  object \n",
      " 7   gill-spacing          36006 non-null  object \n",
      " 8   gill-color            61069 non-null  object \n",
      " 9   stem-height           61069 non-null  float64\n",
      " 10  stem-width            61069 non-null  float64\n",
      " 11  stem-root             9531 non-null   object \n",
      " 12  stem-surface          22945 non-null  object \n",
      " 13  stem-color            61069 non-null  object \n",
      " 14  veil-type             3177 non-null   object \n",
      " 15  veil-color            7413 non-null   object \n",
      " 16  has-ring              61069 non-null  object \n",
      " 17  ring-type             58598 non-null  object \n",
      " 18  spore-print-color     6354 non-null   object \n",
      " 19  habitat               61069 non-null  object \n",
      " 20  season                61069 non-null  object \n",
      "dtypes: float64(3), object(18)\n",
      "memory usage: 48.5 MB\n"
     ]
    }
   ],
   "source": [
    "from os import path\n",
    "from urllib.request import urlretrieve\n",
    "\n",
    "dataset_url = \"https://archive.ics.uci.edu/static/public/848/data.csv\"\n",
    "if not path.exists(\"mushrooms.csv\"):\n",
    "    urlretrieve(dataset_url, \"mushrooms.csv\")\n",
    "\n",
    "# mushrooms = pd.read_csv(\"mushrooms.csv\").sample(frac=0.3, random_state=42)\n",
    "mushrooms = pd.read_csv(\"mushrooms.csv\")\n",
    "\n",
    "mushrooms.info(memory_usage=\"deep\")"
   ]
  },
  {
   "cell_type": "markdown",
   "metadata": {},
   "source": [
    "Clean up -46MB and use proper types"
   ]
  },
  {
   "cell_type": "code",
   "execution_count": 26,
   "metadata": {},
   "outputs": [
    {
     "name": "stdout",
     "output_type": "stream",
     "text": [
      "<class 'pandas.core.frame.DataFrame'>\n",
      "RangeIndex: 61069 entries, 0 to 61068\n",
      "Data columns (total 21 columns):\n",
      " #   Column                Non-Null Count  Dtype   \n",
      "---  ------                --------------  -----   \n",
      " 0   is-edible             61069 non-null  bool    \n",
      " 1   cap-diameter          61069 non-null  float64 \n",
      " 2   cap-shape             61069 non-null  category\n",
      " 3   cap-surface           46949 non-null  category\n",
      " 4   cap-color             61069 non-null  category\n",
      " 5   does-bruise-or-bleed  61069 non-null  bool    \n",
      " 6   gill-attachment       51185 non-null  category\n",
      " 7   gill-spacing          36006 non-null  category\n",
      " 8   gill-color            61069 non-null  category\n",
      " 9   stem-height           61069 non-null  float64 \n",
      " 10  stem-width            61069 non-null  float64 \n",
      " 11  stem-root             9531 non-null   category\n",
      " 12  stem-surface          22945 non-null  category\n",
      " 13  stem-color            61069 non-null  category\n",
      " 14  veil-type             3177 non-null   category\n",
      " 15  veil-color            7413 non-null   category\n",
      " 16  has-ring              61069 non-null  category\n",
      " 17  ring-type             58598 non-null  category\n",
      " 18  spore-print-color     6354 non-null   category\n",
      " 19  habitat               61069 non-null  category\n",
      " 20  season                61069 non-null  category\n",
      "dtypes: bool(2), category(16), float64(3)\n",
      "memory usage: 2.5 MB\n"
     ]
    }
   ],
   "source": [
    "mushrooms.rename(columns={\"class\": \"is-edible\"}, inplace=True)\n",
    "\n",
    "mushrooms[\"cap-shape\"] = mushrooms[\"cap-shape\"].astype(\"category\")\n",
    "mushrooms[\"cap-surface\"] = mushrooms[\"cap-surface\"].astype(\"category\")\n",
    "mushrooms[\"cap-color\"] = mushrooms[\"cap-color\"].astype(\"category\")\n",
    "mushrooms[\"gill-attachment\"] = mushrooms[\"gill-attachment\"].astype(\"category\")\n",
    "mushrooms[\"gill-spacing\"] = mushrooms[\"gill-spacing\"].astype(\"category\")\n",
    "mushrooms[\"gill-color\"] = mushrooms[\"gill-color\"].astype(\"category\")\n",
    "mushrooms[\"stem-root\"] = mushrooms[\"stem-root\"].astype(\"category\")\n",
    "mushrooms[\"stem-surface\"] = mushrooms[\"stem-surface\"].astype(\"category\")\n",
    "mushrooms[\"stem-color\"] = mushrooms[\"stem-color\"].astype(\"category\")\n",
    "mushrooms[\"veil-type\"] = mushrooms[\"veil-type\"].astype(\"category\")\n",
    "mushrooms[\"veil-color\"] = mushrooms[\"veil-color\"].astype(\"category\")\n",
    "mushrooms[\"has-ring\"] = mushrooms[\"has-ring\"].astype(\"category\")\n",
    "mushrooms[\"ring-type\"] = mushrooms[\"ring-type\"].astype(\"category\")\n",
    "mushrooms[\"spore-print-color\"] = mushrooms[\"spore-print-color\"].astype(\"category\")\n",
    "mushrooms[\"habitat\"] = mushrooms[\"habitat\"].astype(\"category\")\n",
    "mushrooms[\"season\"] = mushrooms[\"season\"].astype(\"category\")\n",
    "\n",
    "mushrooms[\"is-edible\"] = mushrooms[\"is-edible\"].map({\"p\": False, \"e\": True})\n",
    "mushrooms[\"does-bruise-or-bleed\"] = mushrooms[\"does-bruise-or-bleed\"].map({\"t\": True, \"f\": False})\n",
    "\n",
    "mushrooms.info(memory_usage=\"deep\")"
   ]
  },
  {
   "cell_type": "markdown",
   "metadata": {},
   "source": [
    "Use numbers as values for categories"
   ]
  },
  {
   "cell_type": "code",
   "execution_count": 27,
   "metadata": {},
   "outputs": [],
   "source": [
    "def get_map_for_categorical_column(df, column):\n",
    "    map = {}\n",
    "    categories = df[column].cat.categories\n",
    "    for i in range(len(categories)):\n",
    "        map[categories[i]] = i\n",
    "    return map\n",
    "\n",
    "mushrooms[\"cap-shape\"] = mushrooms[\"cap-shape\"].map(get_map_for_categorical_column(mushrooms, \"cap-shape\"))\n",
    "mushrooms[\"cap-surface\"] = mushrooms[\"cap-surface\"].map(get_map_for_categorical_column(mushrooms, \"cap-surface\"))\n",
    "mushrooms[\"cap-color\"] = mushrooms[\"cap-color\"].map(get_map_for_categorical_column(mushrooms, \"cap-color\"))\n",
    "mushrooms[\"gill-attachment\"] = mushrooms[\"gill-attachment\"].map(get_map_for_categorical_column(mushrooms, \"gill-attachment\"))\n",
    "mushrooms[\"gill-spacing\"] = mushrooms[\"gill-spacing\"].map(get_map_for_categorical_column(mushrooms, \"gill-spacing\"))\n",
    "mushrooms[\"gill-color\"] = mushrooms[\"gill-color\"].map(get_map_for_categorical_column(mushrooms, \"gill-color\"))\n",
    "mushrooms[\"stem-root\"] = mushrooms[\"stem-root\"].map(get_map_for_categorical_column(mushrooms, \"stem-root\"))\n",
    "mushrooms[\"stem-surface\"] = mushrooms[\"stem-surface\"].map(get_map_for_categorical_column(mushrooms, \"stem-surface\"))\n",
    "mushrooms[\"stem-color\"] = mushrooms[\"stem-color\"].map(get_map_for_categorical_column(mushrooms, \"stem-color\"))\n",
    "mushrooms[\"veil-type\"] = mushrooms[\"veil-type\"].map(get_map_for_categorical_column(mushrooms, \"veil-type\"))\n",
    "mushrooms[\"veil-color\"] = mushrooms[\"veil-color\"].map(get_map_for_categorical_column(mushrooms, \"veil-color\"))\n",
    "mushrooms[\"has-ring\"] = mushrooms[\"has-ring\"].map(get_map_for_categorical_column(mushrooms, \"has-ring\"))\n",
    "mushrooms[\"ring-type\"] = mushrooms[\"ring-type\"].map(get_map_for_categorical_column(mushrooms, \"ring-type\"))\n",
    "mushrooms[\"spore-print-color\"] = mushrooms[\"spore-print-color\"].map(get_map_for_categorical_column(mushrooms, \"spore-print-color\"))\n",
    "mushrooms[\"habitat\"] = mushrooms[\"habitat\"].map(get_map_for_categorical_column(mushrooms, \"habitat\"))\n",
    "mushrooms[\"season\"] = mushrooms[\"season\"].map(get_map_for_categorical_column(mushrooms, \"season\"))"
   ]
  },
  {
   "cell_type": "markdown",
   "metadata": {},
   "source": [
    "vediam"
   ]
  },
  {
   "cell_type": "code",
   "execution_count": 28,
   "metadata": {},
   "outputs": [
    {
     "data": {
      "text/html": [
       "<div>\n",
       "<style scoped>\n",
       "    .dataframe tbody tr th:only-of-type {\n",
       "        vertical-align: middle;\n",
       "    }\n",
       "\n",
       "    .dataframe tbody tr th {\n",
       "        vertical-align: top;\n",
       "    }\n",
       "\n",
       "    .dataframe thead th {\n",
       "        text-align: right;\n",
       "    }\n",
       "</style>\n",
       "<table border=\"1\" class=\"dataframe\">\n",
       "  <thead>\n",
       "    <tr style=\"text-align: right;\">\n",
       "      <th></th>\n",
       "      <th>is-edible</th>\n",
       "      <th>cap-diameter</th>\n",
       "      <th>cap-shape</th>\n",
       "      <th>cap-surface</th>\n",
       "      <th>cap-color</th>\n",
       "      <th>does-bruise-or-bleed</th>\n",
       "      <th>gill-attachment</th>\n",
       "      <th>gill-spacing</th>\n",
       "      <th>gill-color</th>\n",
       "      <th>stem-height</th>\n",
       "      <th>...</th>\n",
       "      <th>stem-root</th>\n",
       "      <th>stem-surface</th>\n",
       "      <th>stem-color</th>\n",
       "      <th>veil-type</th>\n",
       "      <th>veil-color</th>\n",
       "      <th>has-ring</th>\n",
       "      <th>ring-type</th>\n",
       "      <th>spore-print-color</th>\n",
       "      <th>habitat</th>\n",
       "      <th>season</th>\n",
       "    </tr>\n",
       "  </thead>\n",
       "  <tbody>\n",
       "    <tr>\n",
       "      <th>0</th>\n",
       "      <td>False</td>\n",
       "      <td>15.26</td>\n",
       "      <td>6</td>\n",
       "      <td>2</td>\n",
       "      <td>6</td>\n",
       "      <td>False</td>\n",
       "      <td>2</td>\n",
       "      <td>NaN</td>\n",
       "      <td>10</td>\n",
       "      <td>16.95</td>\n",
       "      <td>...</td>\n",
       "      <td>4</td>\n",
       "      <td>7</td>\n",
       "      <td>11</td>\n",
       "      <td>0</td>\n",
       "      <td>4</td>\n",
       "      <td>1</td>\n",
       "      <td>2</td>\n",
       "      <td>NaN</td>\n",
       "      <td>0</td>\n",
       "      <td>3</td>\n",
       "    </tr>\n",
       "    <tr>\n",
       "      <th>1</th>\n",
       "      <td>False</td>\n",
       "      <td>16.60</td>\n",
       "      <td>6</td>\n",
       "      <td>2</td>\n",
       "      <td>6</td>\n",
       "      <td>False</td>\n",
       "      <td>2</td>\n",
       "      <td>NaN</td>\n",
       "      <td>10</td>\n",
       "      <td>17.99</td>\n",
       "      <td>...</td>\n",
       "      <td>4</td>\n",
       "      <td>7</td>\n",
       "      <td>11</td>\n",
       "      <td>0</td>\n",
       "      <td>4</td>\n",
       "      <td>1</td>\n",
       "      <td>2</td>\n",
       "      <td>NaN</td>\n",
       "      <td>0</td>\n",
       "      <td>2</td>\n",
       "    </tr>\n",
       "    <tr>\n",
       "      <th>2</th>\n",
       "      <td>False</td>\n",
       "      <td>14.07</td>\n",
       "      <td>6</td>\n",
       "      <td>2</td>\n",
       "      <td>6</td>\n",
       "      <td>False</td>\n",
       "      <td>2</td>\n",
       "      <td>NaN</td>\n",
       "      <td>10</td>\n",
       "      <td>17.80</td>\n",
       "      <td>...</td>\n",
       "      <td>4</td>\n",
       "      <td>7</td>\n",
       "      <td>11</td>\n",
       "      <td>0</td>\n",
       "      <td>4</td>\n",
       "      <td>1</td>\n",
       "      <td>2</td>\n",
       "      <td>NaN</td>\n",
       "      <td>0</td>\n",
       "      <td>3</td>\n",
       "    </tr>\n",
       "    <tr>\n",
       "      <th>3</th>\n",
       "      <td>False</td>\n",
       "      <td>14.17</td>\n",
       "      <td>2</td>\n",
       "      <td>3</td>\n",
       "      <td>1</td>\n",
       "      <td>False</td>\n",
       "      <td>2</td>\n",
       "      <td>NaN</td>\n",
       "      <td>10</td>\n",
       "      <td>15.77</td>\n",
       "      <td>...</td>\n",
       "      <td>4</td>\n",
       "      <td>7</td>\n",
       "      <td>11</td>\n",
       "      <td>0</td>\n",
       "      <td>4</td>\n",
       "      <td>1</td>\n",
       "      <td>5</td>\n",
       "      <td>NaN</td>\n",
       "      <td>0</td>\n",
       "      <td>3</td>\n",
       "    </tr>\n",
       "    <tr>\n",
       "      <th>4</th>\n",
       "      <td>False</td>\n",
       "      <td>14.64</td>\n",
       "      <td>6</td>\n",
       "      <td>3</td>\n",
       "      <td>6</td>\n",
       "      <td>False</td>\n",
       "      <td>2</td>\n",
       "      <td>NaN</td>\n",
       "      <td>10</td>\n",
       "      <td>16.53</td>\n",
       "      <td>...</td>\n",
       "      <td>4</td>\n",
       "      <td>7</td>\n",
       "      <td>11</td>\n",
       "      <td>0</td>\n",
       "      <td>4</td>\n",
       "      <td>1</td>\n",
       "      <td>5</td>\n",
       "      <td>NaN</td>\n",
       "      <td>0</td>\n",
       "      <td>3</td>\n",
       "    </tr>\n",
       "  </tbody>\n",
       "</table>\n",
       "<p>5 rows × 21 columns</p>\n",
       "</div>"
      ],
      "text/plain": [
       "   is-edible  cap-diameter cap-shape cap-surface cap-color  \\\n",
       "0      False         15.26         6           2         6   \n",
       "1      False         16.60         6           2         6   \n",
       "2      False         14.07         6           2         6   \n",
       "3      False         14.17         2           3         1   \n",
       "4      False         14.64         6           3         6   \n",
       "\n",
       "   does-bruise-or-bleed gill-attachment gill-spacing gill-color  stem-height  \\\n",
       "0                 False               2          NaN         10        16.95   \n",
       "1                 False               2          NaN         10        17.99   \n",
       "2                 False               2          NaN         10        17.80   \n",
       "3                 False               2          NaN         10        15.77   \n",
       "4                 False               2          NaN         10        16.53   \n",
       "\n",
       "   ...  stem-root stem-surface stem-color veil-type veil-color has-ring  \\\n",
       "0  ...          4            7         11         0          4        1   \n",
       "1  ...          4            7         11         0          4        1   \n",
       "2  ...          4            7         11         0          4        1   \n",
       "3  ...          4            7         11         0          4        1   \n",
       "4  ...          4            7         11         0          4        1   \n",
       "\n",
       "  ring-type spore-print-color habitat season  \n",
       "0         2               NaN       0      3  \n",
       "1         2               NaN       0      2  \n",
       "2         2               NaN       0      3  \n",
       "3         5               NaN       0      3  \n",
       "4         5               NaN       0      3  \n",
       "\n",
       "[5 rows x 21 columns]"
      ]
     },
     "execution_count": 28,
     "metadata": {},
     "output_type": "execute_result"
    }
   ],
   "source": [
    "mushrooms.head()"
   ]
  },
  {
   "cell_type": "markdown",
   "metadata": {},
   "source": [
    "Prima di fare describe si codificano le variabile categoriche"
   ]
  },
  {
   "cell_type": "code",
   "execution_count": 29,
   "metadata": {},
   "outputs": [
    {
     "data": {
      "text/html": [
       "<div>\n",
       "<style scoped>\n",
       "    .dataframe tbody tr th:only-of-type {\n",
       "        vertical-align: middle;\n",
       "    }\n",
       "\n",
       "    .dataframe tbody tr th {\n",
       "        vertical-align: top;\n",
       "    }\n",
       "\n",
       "    .dataframe thead th {\n",
       "        text-align: right;\n",
       "    }\n",
       "</style>\n",
       "<table border=\"1\" class=\"dataframe\">\n",
       "  <thead>\n",
       "    <tr style=\"text-align: right;\">\n",
       "      <th></th>\n",
       "      <th>cap-diameter</th>\n",
       "      <th>stem-height</th>\n",
       "      <th>stem-width</th>\n",
       "    </tr>\n",
       "  </thead>\n",
       "  <tbody>\n",
       "    <tr>\n",
       "      <th>count</th>\n",
       "      <td>61069.000000</td>\n",
       "      <td>61069.000000</td>\n",
       "      <td>61069.000000</td>\n",
       "    </tr>\n",
       "    <tr>\n",
       "      <th>mean</th>\n",
       "      <td>6.733854</td>\n",
       "      <td>6.581538</td>\n",
       "      <td>12.149410</td>\n",
       "    </tr>\n",
       "    <tr>\n",
       "      <th>std</th>\n",
       "      <td>5.264845</td>\n",
       "      <td>3.370017</td>\n",
       "      <td>10.035955</td>\n",
       "    </tr>\n",
       "    <tr>\n",
       "      <th>min</th>\n",
       "      <td>0.380000</td>\n",
       "      <td>0.000000</td>\n",
       "      <td>0.000000</td>\n",
       "    </tr>\n",
       "    <tr>\n",
       "      <th>25%</th>\n",
       "      <td>3.480000</td>\n",
       "      <td>4.640000</td>\n",
       "      <td>5.210000</td>\n",
       "    </tr>\n",
       "    <tr>\n",
       "      <th>50%</th>\n",
       "      <td>5.860000</td>\n",
       "      <td>5.950000</td>\n",
       "      <td>10.190000</td>\n",
       "    </tr>\n",
       "    <tr>\n",
       "      <th>75%</th>\n",
       "      <td>8.540000</td>\n",
       "      <td>7.740000</td>\n",
       "      <td>16.570000</td>\n",
       "    </tr>\n",
       "    <tr>\n",
       "      <th>max</th>\n",
       "      <td>62.340000</td>\n",
       "      <td>33.920000</td>\n",
       "      <td>103.910000</td>\n",
       "    </tr>\n",
       "  </tbody>\n",
       "</table>\n",
       "</div>"
      ],
      "text/plain": [
       "       cap-diameter   stem-height    stem-width\n",
       "count  61069.000000  61069.000000  61069.000000\n",
       "mean       6.733854      6.581538     12.149410\n",
       "std        5.264845      3.370017     10.035955\n",
       "min        0.380000      0.000000      0.000000\n",
       "25%        3.480000      4.640000      5.210000\n",
       "50%        5.860000      5.950000     10.190000\n",
       "75%        8.540000      7.740000     16.570000\n",
       "max       62.340000     33.920000    103.910000"
      ]
     },
     "execution_count": 29,
     "metadata": {},
     "output_type": "execute_result"
    }
   ],
   "source": [
    "mushrooms.describe()"
   ]
  },
  {
   "cell_type": "markdown",
   "metadata": {},
   "source": [
    "Analisi esplorativa"
   ]
  },
  {
   "cell_type": "code",
   "execution_count": 30,
   "metadata": {},
   "outputs": [
    {
     "data": {
      "text/plain": [
       "is-edible\n",
       "False    33888\n",
       "True     27181\n",
       "Name: count, dtype: int64"
      ]
     },
     "execution_count": 30,
     "metadata": {},
     "output_type": "execute_result"
    }
   ],
   "source": [
    "mushrooms[\"is-edible\"].value_counts()"
   ]
  },
  {
   "cell_type": "code",
   "execution_count": 31,
   "metadata": {},
   "outputs": [
    {
     "data": {
      "text/plain": [
       "<Axes: ylabel='count'>"
      ]
     },
     "execution_count": 31,
     "metadata": {},
     "output_type": "execute_result"
    },
    {
     "data": {
      "image/png": "[encoded data removed]",
      "text/plain": [
       "<Figure size 640x480 with 1 Axes>"
      ]
     },
     "metadata": {},
     "output_type": "display_data"
    }
   ],
   "source": [
    "mushrooms[\"is-edible\"].value_counts().plot.pie()"
   ]
  },
  {
   "cell_type": "code",
   "execution_count": 32,
   "metadata": {},
   "outputs": [
    {
     "data": {
      "text/plain": [
       "<Axes: ylabel='Frequency'>"
      ]
     },
     "execution_count": 32,
     "metadata": {},
     "output_type": "execute_result"
    },
    {
     "data": {
      "image/png": "[encoded data removed]",
      "text/plain": [
       "<Figure size 640x480 with 1 Axes>"
      ]
     },
     "metadata": {},
     "output_type": "display_data"
    }
   ],
   "source": [
    "mushrooms[\"cap-diameter\"].plot.hist(bins=30)"
   ]
  },
  {
   "cell_type": "code",
   "execution_count": 33,
   "metadata": {},
   "outputs": [
    {
     "data": {
      "text/plain": [
       "<Axes: xlabel='stem-height', ylabel='stem-width'>"
      ]
     },
     "execution_count": 33,
     "metadata": {},
     "output_type": "execute_result"
    },
    {
     "data": {
      "image/png": "[encoded data removed]",
      "text/plain": [
       "<Figure size 640x480 with 1 Axes>"
      ]
     },
     "metadata": {},
     "output_type": "display_data"
    }
   ],
   "source": [
    "mushrooms.plot.scatter(\"stem-height\", \"stem-width\")"
   ]
  },
  {
   "cell_type": "markdown",
   "metadata": {},
   "source": [
    "Controlliamo quanti valori NaN ci sono"
   ]
  },
  {
   "cell_type": "code",
   "execution_count": 34,
   "metadata": {},
   "outputs": [],
   "source": [
    "def check_na_percentages(df):\n",
    "    return df.isna().sum() / df.shape[0] * 100"
   ]
  },
  {
   "cell_type": "code",
   "execution_count": 35,
   "metadata": {},
   "outputs": [
    {
     "data": {
      "text/plain": [
       "is-edible                0.000000\n",
       "cap-diameter             0.000000\n",
       "cap-shape                0.000000\n",
       "cap-surface             23.121387\n",
       "cap-color                0.000000\n",
       "does-bruise-or-bleed     0.000000\n",
       "gill-attachment         16.184971\n",
       "gill-spacing            41.040462\n",
       "gill-color               0.000000\n",
       "stem-height              0.000000\n",
       "stem-width               0.000000\n",
       "stem-root               84.393064\n",
       "stem-surface            62.427746\n",
       "stem-color               0.000000\n",
       "veil-type               94.797688\n",
       "veil-color              87.861272\n",
       "has-ring                 0.000000\n",
       "ring-type                4.046243\n",
       "spore-print-color       89.595376\n",
       "habitat                  0.000000\n",
       "season                   0.000000\n",
       "dtype: float64"
      ]
     },
     "execution_count": 35,
     "metadata": {},
     "output_type": "execute_result"
    }
   ],
   "source": [
    "check_na_percentages(mushrooms)"
   ]
  },
  {
   "cell_type": "markdown",
   "metadata": {},
   "source": [
    "Estraiamo le colonne che hanno piu' dell'80% di valori nulli nel dataset"
   ]
  },
  {
   "cell_type": "code",
   "execution_count": 36,
   "metadata": {},
   "outputs": [
    {
     "name": "stdout",
     "output_type": "stream",
     "text": [
      "['stem-root', 'veil-type', 'veil-color', 'spore-print-color']\n"
     ]
    }
   ],
   "source": [
    "columns_to_drop = []\n",
    "for i in range(mushrooms.shape[1]):\n",
    "    if mushrooms.iloc[:, i].isna().sum() / mushrooms.shape[0] > 0.80:\n",
    "        columns_to_drop.append(mushrooms.columns[i])\n",
    "\n",
    "print(columns_to_drop)"
   ]
  },
  {
   "cell_type": "markdown",
   "metadata": {},
   "source": [
    "Delete all rows that have NaN values in all of those columns"
   ]
  },
  {
   "cell_type": "code",
   "execution_count": 37,
   "metadata": {},
   "outputs": [],
   "source": [
    "mushrooms.dropna(subset=columns_to_drop, how='all', inplace=True)"
   ]
  },
  {
   "cell_type": "markdown",
   "metadata": {},
   "source": [
    "Check again if there a lot of NaN values"
   ]
  },
  {
   "cell_type": "code",
   "execution_count": 38,
   "metadata": {},
   "outputs": [
    {
     "data": {
      "text/plain": [
       "is-edible                0.000000\n",
       "cap-diameter             0.000000\n",
       "cap-shape                0.000000\n",
       "cap-surface             23.076923\n",
       "cap-color                0.000000\n",
       "does-bruise-or-bleed     0.000000\n",
       "gill-attachment         23.076923\n",
       "gill-spacing            51.923077\n",
       "gill-color               0.000000\n",
       "stem-height              0.000000\n",
       "stem-width               0.000000\n",
       "stem-root               48.076923\n",
       "stem-surface            61.538462\n",
       "stem-color               0.000000\n",
       "veil-type               82.692308\n",
       "veil-color              59.615385\n",
       "has-ring                 0.000000\n",
       "ring-type                7.692308\n",
       "spore-print-color       65.384615\n",
       "habitat                  0.000000\n",
       "season                   0.000000\n",
       "dtype: float64"
      ]
     },
     "execution_count": 38,
     "metadata": {},
     "output_type": "execute_result"
    }
   ],
   "source": [
    "check_na_percentages(mushrooms)"
   ]
  },
  {
   "cell_type": "markdown",
   "metadata": {},
   "source": [
    "We have cleaned up a lot. we now delete the veil-type feature"
   ]
  },
  {
   "cell_type": "code",
   "execution_count": 39,
   "metadata": {},
   "outputs": [],
   "source": [
    "mushrooms.drop(columns=\"veil-type\", inplace=True)"
   ]
  },
  {
   "cell_type": "code",
   "execution_count": 40,
   "metadata": {},
   "outputs": [
    {
     "data": {
      "text/plain": [
       "is-edible                0.000000\n",
       "cap-diameter             0.000000\n",
       "cap-shape                0.000000\n",
       "cap-surface             23.076923\n",
       "cap-color                0.000000\n",
       "does-bruise-or-bleed     0.000000\n",
       "gill-attachment         23.076923\n",
       "gill-spacing            51.923077\n",
       "gill-color               0.000000\n",
       "stem-height              0.000000\n",
       "stem-width               0.000000\n",
       "stem-root               48.076923\n",
       "stem-surface            61.538462\n",
       "stem-color               0.000000\n",
       "veil-color              59.615385\n",
       "has-ring                 0.000000\n",
       "ring-type                7.692308\n",
       "spore-print-color       65.384615\n",
       "habitat                  0.000000\n",
       "season                   0.000000\n",
       "dtype: float64"
      ]
     },
     "execution_count": 40,
     "metadata": {},
     "output_type": "execute_result"
    }
   ],
   "source": [
    "check_na_percentages(mushrooms)"
   ]
  },
  {
   "cell_type": "code",
   "execution_count": 41,
   "metadata": {},
   "outputs": [],
   "source": [
    "class_color_map = {True: \"blue\", False: \"red\"}\n",
    "class_colors = mushrooms[\"is-edible\"].map(class_color_map)"
   ]
  },
  {
   "cell_type": "code",
   "execution_count": 42,
   "metadata": {},
   "outputs": [
    {
     "data": {
      "text/plain": [
       "<Axes: xlabel='stem-height', ylabel='stem-width'>"
      ]
     },
     "execution_count": 42,
     "metadata": {},
     "output_type": "execute_result"
    },
    {
     "data": {
      "image/png": "[encoded data removed]",
      "text/plain": [
       "<Figure size 640x480 with 1 Axes>"
      ]
     },
     "metadata": {},
     "output_type": "display_data"
    }
   ],
   "source": [
    "mushrooms.plot.scatter(\"stem-height\", \"stem-width\", c=class_colors)"
   ]
  },
  {
   "cell_type": "markdown",
   "metadata": {},
   "source": [
    "Fill na values"
   ]
  },
  {
   "cell_type": "code",
   "execution_count": 43,
   "metadata": {},
   "outputs": [
    {
     "data": {
      "text/plain": [
       "is-edible               0.0\n",
       "cap-diameter            0.0\n",
       "cap-shape               0.0\n",
       "cap-surface             0.0\n",
       "cap-color               0.0\n",
       "does-bruise-or-bleed    0.0\n",
       "gill-attachment         0.0\n",
       "gill-spacing            0.0\n",
       "gill-color              0.0\n",
       "stem-height             0.0\n",
       "stem-width              0.0\n",
       "stem-root               0.0\n",
       "stem-surface            0.0\n",
       "stem-color              0.0\n",
       "veil-color              0.0\n",
       "has-ring                0.0\n",
       "ring-type               0.0\n",
       "spore-print-color       0.0\n",
       "habitat                 0.0\n",
       "season                  0.0\n",
       "dtype: float64"
      ]
     },
     "execution_count": 43,
     "metadata": {},
     "output_type": "execute_result"
    }
   ],
   "source": [
    "categories = mushrooms.select_dtypes(\"category\").columns\n",
    "for category in categories:\n",
    "    mushrooms[category] = mushrooms[category].fillna(mushrooms[category].mode()[0])\n",
    "\n",
    "check_na_percentages(mushrooms)"
   ]
  },
  {
   "cell_type": "code",
   "execution_count": 44,
   "metadata": {},
   "outputs": [
    {
     "name": "stdout",
     "output_type": "stream",
     "text": [
      "<class 'pandas.core.frame.DataFrame'>\n",
      "Index: 18356 entries, 0 to 58244\n",
      "Data columns (total 20 columns):\n",
      " #   Column                Non-Null Count  Dtype   \n",
      "---  ------                --------------  -----   \n",
      " 0   is-edible             18356 non-null  bool    \n",
      " 1   cap-diameter          18356 non-null  float64 \n",
      " 2   cap-shape             18356 non-null  category\n",
      " 3   cap-surface           18356 non-null  category\n",
      " 4   cap-color             18356 non-null  category\n",
      " 5   does-bruise-or-bleed  18356 non-null  bool    \n",
      " 6   gill-attachment       18356 non-null  category\n",
      " 7   gill-spacing          18356 non-null  category\n",
      " 8   gill-color            18356 non-null  category\n",
      " 9   stem-height           18356 non-null  float64 \n",
      " 10  stem-width            18356 non-null  float64 \n",
      " 11  stem-root             18356 non-null  category\n",
      " 12  stem-surface          18356 non-null  category\n",
      " 13  stem-color            18356 non-null  category\n",
      " 14  veil-color            18356 non-null  category\n",
      " 15  has-ring              18356 non-null  category\n",
      " 16  ring-type             18356 non-null  category\n",
      " 17  spore-print-color     18356 non-null  category\n",
      " 18  habitat               18356 non-null  category\n",
      " 19  season                18356 non-null  category\n",
      "dtypes: bool(2), category(15), float64(3)\n",
      "memory usage: 883.1 KB\n"
     ]
    }
   ],
   "source": [
    "mushrooms.info(memory_usage=\"deep\")"
   ]
  },
  {
   "cell_type": "code",
   "execution_count": 45,
   "metadata": {},
   "outputs": [],
   "source": [
    "mushrooms.to_csv(\"mushrooms_cleaned.csv\", index=False)"
   ]
  }
 ],
 "metadata": {
  "kernelspec": {
   "display_name": "Python 3",
   "language": "python",
   "name": "python3"
  },
  "language_info": {
   "codemirror_mode": {
    "name": "ipython",
    "version": 3
   },
   "file_extension": ".py",
   "mimetype": "text/x-python",
   "name": "python",
   "nbconvert_exporter": "python",
   "pygments_lexer": "ipython3",
   "version": "3.12.3"
  }
 },
 "nbformat": 4,
 "nbformat_minor": 2
}

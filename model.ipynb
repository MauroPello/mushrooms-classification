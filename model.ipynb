{
 "cells": [
  {
   "cell_type": "code",
   "execution_count": 31,
   "metadata": {},
   "outputs": [],
   "source": [
    "# setup e test librerie\n",
    "%matplotlib inline\n",
    "import numpy as np\n",
    "import pandas as pd\n",
    "import matplotlib.pyplot as plt"
   ]
  },
  {
   "cell_type": "markdown",
   "metadata": {},
   "source": [
    "Random forest\n",
    "\n",
    "XGboost\n",
    "\n",
    "evaluation\n",
    "\n",
    "overfitting"
   ]
  },
  {
   "cell_type": "code",
   "execution_count": 32,
   "metadata": {},
   "outputs": [],
   "source": [
    "mushrooms = pd.read_csv(\"mushrooms_cleaned.csv\")\n",
    "\n",
    "y = mushrooms[\"is-edible\"]\n",
    "X_all = mushrooms.drop(columns=\"is-edible\")\n",
    "\n",
    "from sklearn.feature_selection import SelectKBest\n",
    "\n",
    "selector = SelectKBest()\n",
    "best_features = selector.fit_transform(X_all, y)\n",
    "\n",
    "X = pd.DataFrame(best_features, columns=selector.get_feature_names_out())"
   ]
  },
  {
   "cell_type": "code",
   "execution_count": 33,
   "metadata": {},
   "outputs": [],
   "source": [
    "from sklearn.pipeline import Pipeline\n",
    "from sklearn.preprocessing import StandardScaler, MinMaxScaler\n",
    "from sklearn.model_selection import train_test_split\n",
    "from sklearn.metrics import accuracy_score, classification_report\n",
    "\n",
    "X_train, X_val, y_train, y_val = train_test_split(\n",
    "    X, y,\n",
    "    test_size=1/3,\n",
    "    random_state=42\n",
    ")"
   ]
  },
  {
   "cell_type": "code",
   "execution_count": 34,
   "metadata": {},
   "outputs": [],
   "source": [
    "def print_eval(X, y, model):\n",
    "    y_pred = model.predict(X)\n",
    "    accuracy = accuracy_score(y, y_pred)\n",
    "    print(f\"Accuracy/Score: {accuracy:.5}\")\n",
    "    print(\"Classification report\")\n",
    "    print(classification_report(y, y_pred))"
   ]
  },
  {
   "cell_type": "code",
   "execution_count": 35,
   "metadata": {},
   "outputs": [],
   "source": [
    "def print_coefficients(classifier):\n",
    "    print(\"Coefficients\")\n",
    "    for i in range(len(X.columns)):\n",
    "        print(f\"{X.columns[i]}: {classifier.coef_[0][i]}\")"
   ]
  },
  {
   "cell_type": "code",
   "execution_count": 36,
   "metadata": {},
   "outputs": [
    {
     "name": "stdout",
     "output_type": "stream",
     "text": [
      "Coefficients\n",
      "cap-diameter: 0.43992272702786456\n",
      "cap-surface: 0.39210111042038326\n",
      "gill-attachment: -0.4983266286359962\n",
      "gill-spacing: -1.0154884470704393\n",
      "stem-width: 1.3751081170358481\n",
      "stem-root: -0.6365244587327534\n",
      "stem-surface: -0.5575121788367368\n",
      "veil-color: 1.2359366482823795\n",
      "ring-type: -0.41251655049565117\n",
      "spore-print-color: -0.22017880826795244\n",
      "Accuracy/Score: 0.77464\n",
      "Classification report\n",
      "              precision    recall  f1-score   support\n",
      "\n",
      "       False       0.81      0.84      0.83      3933\n",
      "        True       0.70      0.65      0.67      2186\n",
      "\n",
      "    accuracy                           0.77      6119\n",
      "   macro avg       0.76      0.75      0.75      6119\n",
      "weighted avg       0.77      0.77      0.77      6119\n",
      "\n"
     ]
    }
   ],
   "source": [
    "from sklearn.linear_model import LogisticRegression\n",
    "\n",
    "model = Pipeline([\n",
    "    (\"scaler\", StandardScaler()),\n",
    "    (\"lr\", LogisticRegression(solver=\"saga\"))\n",
    "])\n",
    "model.fit(X_train, y_train)\n",
    "\n",
    "print_coefficients(model.named_steps[\"lr\"])\n",
    "print_eval(X_val, y_val, model)"
   ]
  },
  {
   "cell_type": "code",
   "execution_count": 37,
   "metadata": {},
   "outputs": [
    {
     "name": "stdout",
     "output_type": "stream",
     "text": [
      "Accuracy/Score: 0.77153\n",
      "Classification report\n",
      "              precision    recall  f1-score   support\n",
      "\n",
      "       False       0.86      0.77      0.81      3933\n",
      "        True       0.65      0.77      0.71      2186\n",
      "\n",
      "    accuracy                           0.77      6119\n",
      "   macro avg       0.76      0.77      0.76      6119\n",
      "weighted avg       0.78      0.77      0.77      6119\n",
      "\n"
     ]
    },
    {
     "data": {
      "image/png": "[encoded data removed]",
      "text/plain": [
       "<Figure size 640x480 with 1 Axes>"
      ]
     },
     "metadata": {},
     "output_type": "display_data"
    }
   ],
   "source": [
    "from sklearn.tree import DecisionTreeClassifier\n",
    "from sklearn.tree import plot_tree\n",
    "\n",
    "model = Pipeline([\n",
    "    (\"scaler\", StandardScaler()),\n",
    "    (\"dtc\", DecisionTreeClassifier(max_depth=3))\n",
    "])\n",
    "model.fit(X_train, y_train)\n",
    "\n",
    "plot_tree(model.named_steps[\"dtc\"])\n",
    "print_eval(X_val, y_val, model)"
   ]
  },
  {
   "cell_type": "code",
   "execution_count": 38,
   "metadata": {},
   "outputs": [
    {
     "name": "stdout",
     "output_type": "stream",
     "text": [
      "Coefficients\n",
      "cap-diameter: 0.1146619769501101\n",
      "cap-surface: 0.1502102024301553\n",
      "gill-attachment: -0.1595683028321307\n",
      "gill-spacing: -0.18639943770959244\n",
      "stem-width: 0.39575975623502574\n",
      "stem-root: -0.25626358953558487\n",
      "stem-surface: -0.1720138459364061\n",
      "veil-color: 0.30844842590264\n",
      "ring-type: -0.132058907733605\n",
      "spore-print-color: -0.010243824545401587\n",
      "Accuracy/Score: 0.77153\n",
      "Classification report\n",
      "              precision    recall  f1-score   support\n",
      "\n",
      "       False       0.82      0.83      0.82      3933\n",
      "        True       0.69      0.66      0.67      2186\n",
      "\n",
      "    accuracy                           0.77      6119\n",
      "   macro avg       0.75      0.75      0.75      6119\n",
      "weighted avg       0.77      0.77      0.77      6119\n",
      "\n"
     ]
    }
   ],
   "source": [
    "from sklearn.linear_model import RidgeClassifier\n",
    "\n",
    "model = Pipeline([\n",
    "    (\"scaler\", StandardScaler()),\n",
    "    (\"rc\", RidgeClassifier(alpha=0.5))\n",
    "])\n",
    "model.fit(X_train, y_train)\n",
    "\n",
    "print_coefficients(model.named_steps[\"rc\"])\n",
    "print_eval(X_val, y_val, model)"
   ]
  },
  {
   "cell_type": "code",
   "execution_count": 39,
   "metadata": {},
   "outputs": [],
   "source": [
    "from sklearn.linear_model import LogisticRegression\n",
    "from sklearn.model_selection import GridSearchCV, KFold, StratifiedKFold\n",
    "\n",
    "kf = KFold(3, shuffle=True, random_state=42)\n",
    "skf = StratifiedKFold(3, shuffle=True, random_state=42)\n",
    "\n",
    "model = Pipeline([\n",
    "    (\"scaler\", None),\n",
    "    (\"lr\", LogisticRegression(solver=\"saga\"))\n",
    "])\n",
    "grid = [\n",
    "    {\n",
    "        \"scaler\": [None, StandardScaler(), MinMaxScaler()],\n",
    "        \"lr__penalty\": [None]\n",
    "    },\n",
    "    {\n",
    "        \"scaler\": [None, StandardScaler(), MinMaxScaler()],\n",
    "        \"lr__penalty\": [\"l2\", \"l1\"],\n",
    "        \"lr__C\": np.logspace(-2, 2, 5)\n",
    "    },\n",
    "    {\n",
    "        \"scaler\": [None, StandardScaler(), MinMaxScaler()],\n",
    "        \"lr__penalty\": [\"elasticnet\"],\n",
    "        \"lr__C\": np.logspace(-2, 2, 5),\n",
    "        \"lr__l1_ratio\": [0.2, 0.5]\n",
    "    }\n",
    "]\n",
    "# gs = GridSearchCV(model, grid, cv=skf)\n",
    "# gs.fit(X, y)\n",
    "# pd.DataFrame(gs.cv_results_).sort_values(\"rank_test_score\").head(5)"
   ]
  },
  {
   "cell_type": "markdown",
   "metadata": {},
   "source": [
    "batch size aiuta tantissimo"
   ]
  },
  {
   "cell_type": "code",
   "execution_count": 40,
   "metadata": {},
   "outputs": [
    {
     "data": {
      "text/html": [
       "<div>\n",
       "<style scoped>\n",
       "    .dataframe tbody tr th:only-of-type {\n",
       "        vertical-align: middle;\n",
       "    }\n",
       "\n",
       "    .dataframe tbody tr th {\n",
       "        vertical-align: top;\n",
       "    }\n",
       "\n",
       "    .dataframe thead th {\n",
       "        text-align: right;\n",
       "    }\n",
       "</style>\n",
       "<table border=\"1\" class=\"dataframe\">\n",
       "  <thead>\n",
       "    <tr style=\"text-align: right;\">\n",
       "      <th></th>\n",
       "      <th>mean_fit_time</th>\n",
       "      <th>std_fit_time</th>\n",
       "      <th>mean_score_time</th>\n",
       "      <th>std_score_time</th>\n",
       "      <th>param_mlp__hidden_layer_sizes</th>\n",
       "      <th>params</th>\n",
       "      <th>split0_test_score</th>\n",
       "      <th>split1_test_score</th>\n",
       "      <th>split2_test_score</th>\n",
       "      <th>mean_test_score</th>\n",
       "      <th>std_test_score</th>\n",
       "      <th>rank_test_score</th>\n",
       "    </tr>\n",
       "  </thead>\n",
       "  <tbody>\n",
       "    <tr>\n",
       "      <th>1</th>\n",
       "      <td>2.382628</td>\n",
       "      <td>0.462801</td>\n",
       "      <td>0.002841</td>\n",
       "      <td>0.000431</td>\n",
       "      <td>10</td>\n",
       "      <td>{'mlp__hidden_layer_sizes': 10}</td>\n",
       "      <td>1.00000</td>\n",
       "      <td>1.0</td>\n",
       "      <td>0.999755</td>\n",
       "      <td>0.999918</td>\n",
       "      <td>0.000116</td>\n",
       "      <td>1</td>\n",
       "    </tr>\n",
       "    <tr>\n",
       "      <th>0</th>\n",
       "      <td>2.799946</td>\n",
       "      <td>0.260445</td>\n",
       "      <td>0.003796</td>\n",
       "      <td>0.000110</td>\n",
       "      <td>(6, 6)</td>\n",
       "      <td>{'mlp__hidden_layer_sizes': (6, 6)}</td>\n",
       "      <td>0.99951</td>\n",
       "      <td>1.0</td>\n",
       "      <td>0.999755</td>\n",
       "      <td>0.999755</td>\n",
       "      <td>0.000200</td>\n",
       "      <td>2</td>\n",
       "    </tr>\n",
       "  </tbody>\n",
       "</table>\n",
       "</div>"
      ],
      "text/plain": [
       "   mean_fit_time  std_fit_time  mean_score_time  std_score_time  \\\n",
       "1       2.382628      0.462801         0.002841        0.000431   \n",
       "0       2.799946      0.260445         0.003796        0.000110   \n",
       "\n",
       "  param_mlp__hidden_layer_sizes                               params  \\\n",
       "1                            10      {'mlp__hidden_layer_sizes': 10}   \n",
       "0                        (6, 6)  {'mlp__hidden_layer_sizes': (6, 6)}   \n",
       "\n",
       "   split0_test_score  split1_test_score  split2_test_score  mean_test_score  \\\n",
       "1            1.00000                1.0           0.999755         0.999918   \n",
       "0            0.99951                1.0           0.999755         0.999755   \n",
       "\n",
       "   std_test_score  rank_test_score  \n",
       "1        0.000116                1  \n",
       "0        0.000200                2  "
      ]
     },
     "execution_count": 40,
     "metadata": {},
     "output_type": "execute_result"
    }
   ],
   "source": [
    "from sklearn.neural_network import MLPClassifier\n",
    "\n",
    "model = Pipeline([\n",
    "    (\"scaler\", StandardScaler()),\n",
    "    (\"mlp\", MLPClassifier(activation=\"relu\", random_state=42))\n",
    "])\n",
    "grid = {\n",
    "    \"mlp__hidden_layer_sizes\": [(6, 6), 10],\n",
    "}\n",
    "gs = GridSearchCV(model, grid, cv=skf)\n",
    "gs.fit(X_train, y_train)\n",
    "pd.DataFrame(gs.cv_results_).sort_values(\"rank_test_score\").head(5)"
   ]
  }
 ],
 "metadata": {
  "kernelspec": {
   "display_name": ".venv",
   "language": "python",
   "name": "python3"
  },
  "language_info": {
   "codemirror_mode": {
    "name": "ipython",
    "version": 3
   },
   "file_extension": ".py",
   "mimetype": "text/x-python",
   "name": "python",
   "nbconvert_exporter": "python",
   "pygments_lexer": "ipython3",
   "version": "3.12.3"
  }
 },
 "nbformat": 4,
 "nbformat_minor": 2
}

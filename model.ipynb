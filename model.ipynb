{
 "cells": [
  {
   "cell_type": "code",
   "execution_count": 133,
   "metadata": {},
   "outputs": [],
   "source": [
    "# setup e test librerie\n",
    "%matplotlib inline\n",
    "import numpy as np\n",
    "import pandas as pd\n",
    "import matplotlib.pyplot as plt"
   ]
  },
  {
   "cell_type": "markdown",
   "metadata": {},
   "source": [
    "Random forest\n",
    "\n",
    "XGboost\n",
    "\n",
    "evaluation\n",
    "\n",
    "overfitting"
   ]
  },
  {
   "cell_type": "code",
   "execution_count": 134,
   "metadata": {},
   "outputs": [
    {
     "name": "stdout",
     "output_type": "stream",
     "text": [
      "<class 'pandas.core.frame.DataFrame'>\n",
      "RangeIndex: 18356 entries, 0 to 18355\n",
      "Data columns (total 20 columns):\n",
      " #   Column                Non-Null Count  Dtype  \n",
      "---  ------                --------------  -----  \n",
      " 0   is-edible             18356 non-null  bool   \n",
      " 1   cap-diameter          18356 non-null  float64\n",
      " 2   cap-shape             18356 non-null  float64\n",
      " 3   cap-surface           18356 non-null  float64\n",
      " 4   cap-color             18356 non-null  float64\n",
      " 5   does-bruise-or-bleed  18356 non-null  bool   \n",
      " 6   gill-attachment       18356 non-null  float64\n",
      " 7   gill-spacing          18356 non-null  float64\n",
      " 8   gill-color            18356 non-null  float64\n",
      " 9   stem-height           18356 non-null  float64\n",
      " 10  stem-width            18356 non-null  float64\n",
      " 11  stem-root             18356 non-null  float64\n",
      " 12  stem-surface          18356 non-null  float64\n",
      " 13  stem-color            18356 non-null  float64\n",
      " 14  veil-color            18356 non-null  float64\n",
      " 15  has-ring              18356 non-null  float64\n",
      " 16  ring-type             18356 non-null  float64\n",
      " 17  spore-print-color     18356 non-null  float64\n",
      " 18  habitat               18356 non-null  float64\n",
      " 19  season                18356 non-null  float64\n",
      "dtypes: bool(2), float64(18)\n",
      "memory usage: 2.6 MB\n"
     ]
    }
   ],
   "source": [
    "mushrooms = pd.read_csv(\"mushrooms_cleaned.csv\")\n",
    "\n",
    "y = mushrooms[\"is-edible\"]\n",
    "X = mushrooms.drop(columns=\"is-edible\")\n",
    "\n",
    "mushrooms.info()"
   ]
  },
  {
   "cell_type": "code",
   "execution_count": 135,
   "metadata": {},
   "outputs": [],
   "source": [
    "from sklearn.pipeline import Pipeline\n",
    "from sklearn.preprocessing import StandardScaler, MinMaxScaler\n",
    "from sklearn.model_selection import train_test_split\n",
    "from sklearn.metrics import accuracy_score, classification_report\n",
    "\n",
    "X_train, X_val, y_train, y_val = train_test_split(\n",
    "    X, y,\n",
    "    test_size=1/3,\n",
    "    random_state=42\n",
    ")"
   ]
  },
  {
   "cell_type": "code",
   "execution_count": 136,
   "metadata": {},
   "outputs": [],
   "source": [
    "def print_eval(X, y, model):\n",
    "    y_pred = model.predict(X)\n",
    "    accuracy = accuracy_score(y, y_pred)\n",
    "    print(f\"Accuracy/Score: {accuracy:.5}\")\n",
    "    print(\"Classification report\")\n",
    "    print(classification_report(y, y_pred))"
   ]
  },
  {
   "cell_type": "code",
   "execution_count": 137,
   "metadata": {},
   "outputs": [],
   "source": [
    "def print_coefficients(classifier):\n",
    "    print(\"Coefficients\")\n",
    "    for i in range(len(X.columns)):\n",
    "        print(f\"{X.columns[i]}: {classifier.coef_[0][i]}\")"
   ]
  },
  {
   "cell_type": "code",
   "execution_count": 138,
   "metadata": {},
   "outputs": [
    {
     "name": "stdout",
     "output_type": "stream",
     "text": [
      "Coefficients\n",
      "cap-diameter: 0.9851679794175265\n",
      "cap-shape: 0.33532915466057256\n",
      "cap-surface: 0.5678191854202835\n",
      "cap-color: 0.19304587563032755\n",
      "does-bruise-or-bleed: -0.19195090829418168\n",
      "gill-attachment: -0.1319836360248264\n",
      "gill-spacing: -0.28321640268420717\n",
      "gill-color: -0.44488031864353017\n",
      "stem-height: -0.13495368203491317\n",
      "stem-width: 1.112253192583471\n",
      "stem-root: -0.27194241959962323\n",
      "stem-surface: -0.5508439318924407\n",
      "stem-color: -0.06761726444906357\n",
      "veil-color: 5.526129519358212\n",
      "has-ring: -0.5228303588498777\n",
      "ring-type: -0.36606392245467606\n",
      "spore-print-color: 0.34208222786473913\n",
      "habitat: 0.7498509778683441\n",
      "season: 0.07252646951174203\n",
      "Accuracy/Score: 0.81566\n",
      "Classification report\n",
      "              precision    recall  f1-score   support\n",
      "\n",
      "       False       0.84      0.88      0.86      3933\n",
      "        True       0.77      0.70      0.73      2186\n",
      "\n",
      "    accuracy                           0.82      6119\n",
      "   macro avg       0.80      0.79      0.79      6119\n",
      "weighted avg       0.81      0.82      0.81      6119\n",
      "\n"
     ]
    }
   ],
   "source": [
    "from sklearn.linear_model import LogisticRegression\n",
    "\n",
    "model = Pipeline([\n",
    "    (\"scaler\", StandardScaler()),\n",
    "    (\"lr\", LogisticRegression(solver=\"saga\"))\n",
    "])\n",
    "model.fit(X_train, y_train)\n",
    "\n",
    "print_coefficients(model.named_steps[\"lr\"])\n",
    "print_eval(X_val, y_val, model)"
   ]
  },
  {
   "cell_type": "code",
   "execution_count": 139,
   "metadata": {},
   "outputs": [
    {
     "name": "stdout",
     "output_type": "stream",
     "text": [
      "Accuracy/Score: 0.83886\n",
      "Classification report\n",
      "              precision    recall  f1-score   support\n",
      "\n",
      "       False       0.89      0.86      0.87      3933\n",
      "        True       0.76      0.80      0.78      2186\n",
      "\n",
      "    accuracy                           0.84      6119\n",
      "   macro avg       0.82      0.83      0.83      6119\n",
      "weighted avg       0.84      0.84      0.84      6119\n",
      "\n"
     ]
    },
    {
     "data": {
      "image/png": "[encoded data removed]",
      "text/plain": [
       "<Figure size 640x480 with 1 Axes>"
      ]
     },
     "metadata": {},
     "output_type": "display_data"
    }
   ],
   "source": [
    "from sklearn.tree import DecisionTreeClassifier\n",
    "from sklearn.tree import plot_tree\n",
    "\n",
    "model = Pipeline([\n",
    "    (\"scaler\", StandardScaler()),\n",
    "    (\"dtc\", DecisionTreeClassifier(max_depth=3))\n",
    "])\n",
    "model.fit(X_train, y_train)\n",
    "\n",
    "plot_tree(model.named_steps[\"dtc\"])\n",
    "print_eval(X_val, y_val, model)"
   ]
  },
  {
   "cell_type": "code",
   "execution_count": 140,
   "metadata": {},
   "outputs": [
    {
     "name": "stdout",
     "output_type": "stream",
     "text": [
      "Coefficients\n",
      "cap-diameter: 0.25996327995550966\n",
      "cap-shape: 0.11103560947775117\n",
      "cap-surface: 0.11454321505005634\n",
      "cap-color: 0.06788384242816636\n",
      "does-bruise-or-bleed: -0.06151360949594369\n",
      "gill-attachment: -0.10051601634659926\n",
      "gill-spacing: -0.11673893073383568\n",
      "gill-color: -0.10767477226655803\n",
      "stem-height: 0.0024208519437873234\n",
      "stem-width: 0.2966675335613977\n",
      "stem-root: -0.20236028019198943\n",
      "stem-surface: -0.1158250843449669\n",
      "stem-color: 0.04146382321193305\n",
      "veil-color: 0.2455274195474239\n",
      "has-ring: 0.04516007814015538\n",
      "ring-type: -0.12709620552025208\n",
      "spore-print-color: 0.007675659703861884\n",
      "habitat: 0.15194876521121928\n",
      "season: 0.002662069247182252\n",
      "Accuracy/Score: 0.81026\n",
      "Classification report\n",
      "              precision    recall  f1-score   support\n",
      "\n",
      "       False       0.84      0.87      0.85      3933\n",
      "        True       0.75      0.71      0.73      2186\n",
      "\n",
      "    accuracy                           0.81      6119\n",
      "   macro avg       0.80      0.79      0.79      6119\n",
      "weighted avg       0.81      0.81      0.81      6119\n",
      "\n"
     ]
    }
   ],
   "source": [
    "from sklearn.linear_model import RidgeClassifier\n",
    "\n",
    "model = Pipeline([\n",
    "    (\"scaler\", StandardScaler()),\n",
    "    (\"rc\", RidgeClassifier(alpha=0.5))\n",
    "])\n",
    "model.fit(X_train, y_train)\n",
    "\n",
    "print_coefficients(model.named_steps[\"rc\"])\n",
    "print_eval(X_val, y_val, model)"
   ]
  },
  {
   "cell_type": "code",
   "execution_count": 141,
   "metadata": {},
   "outputs": [],
   "source": [
    "from sklearn.linear_model import LogisticRegression\n",
    "from sklearn.model_selection import GridSearchCV, KFold, StratifiedKFold\n",
    "\n",
    "kf = KFold(3, shuffle=True, random_state=42)\n",
    "skf = StratifiedKFold(3, shuffle=True, random_state=42)\n",
    "\n",
    "model = Pipeline([\n",
    "    (\"scaler\", None),\n",
    "    (\"lr\", LogisticRegression(solver=\"saga\"))\n",
    "])\n",
    "grid = [\n",
    "    {\n",
    "        \"scaler\": [None, StandardScaler(), MinMaxScaler()],\n",
    "        \"lr__penalty\": [None]\n",
    "    },\n",
    "    {\n",
    "        \"scaler\": [None, StandardScaler(), MinMaxScaler()],\n",
    "        \"lr__penalty\": [\"l2\", \"l1\"],\n",
    "        \"lr__C\": np.logspace(-2, 2, 5)\n",
    "    },\n",
    "    {\n",
    "        \"scaler\": [None, StandardScaler(), MinMaxScaler()],\n",
    "        \"lr__penalty\": [\"elasticnet\"],\n",
    "        \"lr__C\": np.logspace(-2, 2, 5),\n",
    "        \"lr__l1_ratio\": [0.2, 0.5]\n",
    "    }\n",
    "]\n",
    "# gs = GridSearchCV(model, grid, cv=skf)\n",
    "# gs.fit(X, y)\n",
    "# pd.DataFrame(gs.cv_results_).sort_values(\"rank_test_score\").head(5)"
   ]
  },
  {
   "cell_type": "markdown",
   "metadata": {},
   "source": [
    "batch size aiuta tantissimo"
   ]
  },
  {
   "cell_type": "code",
   "execution_count": 142,
   "metadata": {},
   "outputs": [
    {
     "data": {
      "text/html": [
       "<div>\n",
       "<style scoped>\n",
       "    .dataframe tbody tr th:only-of-type {\n",
       "        vertical-align: middle;\n",
       "    }\n",
       "\n",
       "    .dataframe tbody tr th {\n",
       "        vertical-align: top;\n",
       "    }\n",
       "\n",
       "    .dataframe thead th {\n",
       "        text-align: right;\n",
       "    }\n",
       "</style>\n",
       "<table border=\"1\" class=\"dataframe\">\n",
       "  <thead>\n",
       "    <tr style=\"text-align: right;\">\n",
       "      <th></th>\n",
       "      <th>mean_fit_time</th>\n",
       "      <th>std_fit_time</th>\n",
       "      <th>mean_score_time</th>\n",
       "      <th>std_score_time</th>\n",
       "      <th>param_mlp__hidden_layer_sizes</th>\n",
       "      <th>params</th>\n",
       "      <th>split0_test_score</th>\n",
       "      <th>split1_test_score</th>\n",
       "      <th>split2_test_score</th>\n",
       "      <th>mean_test_score</th>\n",
       "      <th>std_test_score</th>\n",
       "      <th>rank_test_score</th>\n",
       "    </tr>\n",
       "  </thead>\n",
       "  <tbody>\n",
       "    <tr>\n",
       "      <th>0</th>\n",
       "      <td>1.867264</td>\n",
       "      <td>0.041913</td>\n",
       "      <td>0.006208</td>\n",
       "      <td>0.000495</td>\n",
       "      <td>(4, 4)</td>\n",
       "      <td>{'mlp__hidden_layer_sizes': (4, 4)}</td>\n",
       "      <td>1.0</td>\n",
       "      <td>1.0</td>\n",
       "      <td>1.0</td>\n",
       "      <td>1.0</td>\n",
       "      <td>0.0</td>\n",
       "      <td>1</td>\n",
       "    </tr>\n",
       "    <tr>\n",
       "      <th>1</th>\n",
       "      <td>2.177128</td>\n",
       "      <td>0.063868</td>\n",
       "      <td>0.006124</td>\n",
       "      <td>0.000507</td>\n",
       "      <td>8</td>\n",
       "      <td>{'mlp__hidden_layer_sizes': 8}</td>\n",
       "      <td>1.0</td>\n",
       "      <td>1.0</td>\n",
       "      <td>1.0</td>\n",
       "      <td>1.0</td>\n",
       "      <td>0.0</td>\n",
       "      <td>1</td>\n",
       "    </tr>\n",
       "  </tbody>\n",
       "</table>\n",
       "</div>"
      ],
      "text/plain": [
       "   mean_fit_time  std_fit_time  mean_score_time  std_score_time  \\\n",
       "0       1.867264      0.041913         0.006208        0.000495   \n",
       "1       2.177128      0.063868         0.006124        0.000507   \n",
       "\n",
       "  param_mlp__hidden_layer_sizes                               params  \\\n",
       "0                        (4, 4)  {'mlp__hidden_layer_sizes': (4, 4)}   \n",
       "1                             8       {'mlp__hidden_layer_sizes': 8}   \n",
       "\n",
       "   split0_test_score  split1_test_score  split2_test_score  mean_test_score  \\\n",
       "0                1.0                1.0                1.0              1.0   \n",
       "1                1.0                1.0                1.0              1.0   \n",
       "\n",
       "   std_test_score  rank_test_score  \n",
       "0             0.0                1  \n",
       "1             0.0                1  "
      ]
     },
     "execution_count": 142,
     "metadata": {},
     "output_type": "execute_result"
    }
   ],
   "source": [
    "from sklearn.neural_network import MLPClassifier\n",
    "\n",
    "model = Pipeline([\n",
    "    (\"scaler\", StandardScaler()),\n",
    "    (\"mlp\", MLPClassifier(batch_size=50, activation=\"relu\", random_state=42))\n",
    "])\n",
    "grid = {\n",
    "    \"mlp__hidden_layer_sizes\": [(4, 4), 8],\n",
    "}\n",
    "gs = GridSearchCV(model, grid, cv=skf)\n",
    "gs.fit(X_train, y_train)\n",
    "pd.DataFrame(gs.cv_results_).sort_values(\"rank_test_score\").head(5)"
   ]
  }
 ],
 "metadata": {
  "kernelspec": {
   "display_name": ".venv",
   "language": "python",
   "name": "python3"
  },
  "language_info": {
   "codemirror_mode": {
    "name": "ipython",
    "version": 3
   },
   "file_extension": ".py",
   "mimetype": "text/x-python",
   "name": "python",
   "nbconvert_exporter": "python",
   "pygments_lexer": "ipython3",
   "version": "3.12.3"
  }
 },
 "nbformat": 4,
 "nbformat_minor": 2
}

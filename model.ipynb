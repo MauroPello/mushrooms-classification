{
 "cells": [
  {
   "cell_type": "code",
   "execution_count": 153,
   "metadata": {},
   "outputs": [],
   "source": [
    "# setup e test librerie\n",
    "%matplotlib inline\n",
    "import numpy as np\n",
    "import pandas as pd\n",
    "import matplotlib.pyplot as plt"
   ]
  },
  {
   "cell_type": "markdown",
   "metadata": {},
   "source": [
    "Random forest\n",
    "\n",
    "XGboost\n",
    "\n",
    "evaluation\n",
    "\n",
    "overfitting"
   ]
  },
  {
   "cell_type": "code",
   "execution_count": 154,
   "metadata": {},
   "outputs": [
    {
     "name": "stdout",
     "output_type": "stream",
     "text": [
      "<class 'pandas.core.frame.DataFrame'>\n",
      "RangeIndex: 18356 entries, 0 to 18355\n",
      "Data columns (total 20 columns):\n",
      " #   Column                Non-Null Count  Dtype  \n",
      "---  ------                --------------  -----  \n",
      " 0   is-edible             18356 non-null  bool   \n",
      " 1   cap-diameter          18356 non-null  float64\n",
      " 2   cap-shape             18356 non-null  float64\n",
      " 3   cap-surface           18356 non-null  float64\n",
      " 4   cap-color             18356 non-null  float64\n",
      " 5   does-bruise-or-bleed  18356 non-null  bool   \n",
      " 6   gill-attachment       18356 non-null  float64\n",
      " 7   gill-spacing          18356 non-null  float64\n",
      " 8   gill-color            18356 non-null  float64\n",
      " 9   stem-height           18356 non-null  float64\n",
      " 10  stem-width            18356 non-null  float64\n",
      " 11  stem-root             18356 non-null  float64\n",
      " 12  stem-surface          18356 non-null  float64\n",
      " 13  stem-color            18356 non-null  float64\n",
      " 14  veil-color            18356 non-null  float64\n",
      " 15  has-ring              18356 non-null  float64\n",
      " 16  ring-type             18356 non-null  float64\n",
      " 17  spore-print-color     18356 non-null  float64\n",
      " 18  habitat               18356 non-null  float64\n",
      " 19  season                18356 non-null  float64\n",
      "dtypes: bool(2), float64(18)\n",
      "memory usage: 2.6 MB\n"
     ]
    }
   ],
   "source": [
    "mushrooms = pd.read_csv(\"mushrooms_cleaned.csv\")\n",
    "\n",
    "y = mushrooms[\"is-edible\"]\n",
    "X = mushrooms.drop(columns=\"is-edible\")\n",
    "\n",
    "mushrooms.info()"
   ]
  },
  {
   "cell_type": "code",
   "execution_count": 155,
   "metadata": {},
   "outputs": [],
   "source": [
    "from sklearn.pipeline import Pipeline\n",
    "from sklearn.preprocessing import StandardScaler, MinMaxScaler\n",
    "from sklearn.model_selection import train_test_split\n",
    "from sklearn.metrics import accuracy_score, classification_report\n",
    "\n",
    "X_train, X_val, y_train, y_val = train_test_split(\n",
    "    X, y,\n",
    "    test_size=1/3,\n",
    "    random_state=42\n",
    ")"
   ]
  },
  {
   "cell_type": "code",
   "execution_count": 156,
   "metadata": {},
   "outputs": [],
   "source": [
    "def print_eval(X, y, model):\n",
    "    y_pred = model.predict(X)\n",
    "    accuracy = accuracy_score(y, y_pred)\n",
    "    print(f\"Accuracy/Score: {accuracy:.5}\")\n",
    "    print(\"Classification report\")\n",
    "    print(classification_report(y, y_pred))"
   ]
  },
  {
   "cell_type": "code",
   "execution_count": 157,
   "metadata": {},
   "outputs": [],
   "source": [
    "def print_coefficients(classifier):\n",
    "    print(\"Coefficients\")\n",
    "    for i in range(len(X.columns)):\n",
    "        print(f\"{X.columns[i]}: {classifier.coef_[0][i]}\")"
   ]
  },
  {
   "cell_type": "code",
   "execution_count": 158,
   "metadata": {},
   "outputs": [
    {
     "name": "stdout",
     "output_type": "stream",
     "text": [
      "Coefficients\n",
      "cap-diameter: 0.6730044427761543\n",
      "cap-shape: 0.3131364434890463\n",
      "cap-surface: 0.4313046762499088\n",
      "cap-color: 0.7663845660510489\n",
      "does-bruise-or-bleed: -0.2721396061284415\n",
      "gill-attachment: -0.38574902669812455\n",
      "gill-spacing: -0.6676134355152893\n",
      "gill-color: -0.34247419942167356\n",
      "stem-height: 0.5789358820237537\n",
      "stem-width: 2.46205975960916\n",
      "stem-root: -0.6789370770990197\n",
      "stem-surface: -1.0006849831314448\n",
      "stem-color: 0.5339369943258998\n",
      "veil-color: 1.8390889412098335\n",
      "has-ring: 0.1918582124715632\n",
      "ring-type: -0.6369748777336978\n",
      "spore-print-color: -0.1387228771006841\n",
      "habitat: 0.31368044576765297\n",
      "season: 0.023549979683386277\n",
      "Accuracy/Score: 0.78951\n",
      "Classification report\n",
      "              precision    recall  f1-score   support\n",
      "\n",
      "       False       0.83      0.84      0.84      3933\n",
      "        True       0.71      0.70      0.70      2186\n",
      "\n",
      "    accuracy                           0.79      6119\n",
      "   macro avg       0.77      0.77      0.77      6119\n",
      "weighted avg       0.79      0.79      0.79      6119\n",
      "\n"
     ]
    }
   ],
   "source": [
    "from sklearn.linear_model import LogisticRegression\n",
    "\n",
    "model = Pipeline([\n",
    "    (\"scaler\", StandardScaler()),\n",
    "    (\"lr\", LogisticRegression(solver=\"saga\"))\n",
    "])\n",
    "model.fit(X_train, y_train)\n",
    "\n",
    "print_coefficients(model.named_steps[\"lr\"])\n",
    "print_eval(X_val, y_val, model)"
   ]
  },
  {
   "cell_type": "code",
   "execution_count": 159,
   "metadata": {},
   "outputs": [
    {
     "name": "stdout",
     "output_type": "stream",
     "text": [
      "Accuracy/Score: 0.78885\n",
      "Classification report\n",
      "              precision    recall  f1-score   support\n",
      "\n",
      "       False       0.95      0.71      0.81      3933\n",
      "        True       0.64      0.93      0.76      2186\n",
      "\n",
      "    accuracy                           0.79      6119\n",
      "   macro avg       0.79      0.82      0.79      6119\n",
      "weighted avg       0.84      0.79      0.79      6119\n",
      "\n"
     ]
    },
    {
     "data": {
      "image/png": "[encoded data removed]",
      "text/plain": [
       "<Figure size 640x480 with 1 Axes>"
      ]
     },
     "metadata": {},
     "output_type": "display_data"
    }
   ],
   "source": [
    "from sklearn.tree import DecisionTreeClassifier\n",
    "from sklearn.tree import plot_tree\n",
    "\n",
    "model = Pipeline([\n",
    "    (\"scaler\", StandardScaler()),\n",
    "    (\"dtc\", DecisionTreeClassifier(max_depth=3))\n",
    "])\n",
    "model.fit(X_train, y_train)\n",
    "\n",
    "plot_tree(model.named_steps[\"dtc\"])\n",
    "print_eval(X_val, y_val, model)"
   ]
  },
  {
   "cell_type": "code",
   "execution_count": 160,
   "metadata": {},
   "outputs": [
    {
     "name": "stdout",
     "output_type": "stream",
     "text": [
      "Coefficients\n",
      "cap-diameter: 0.16821105216627993\n",
      "cap-shape: 0.07584005534176924\n",
      "cap-surface: 0.1269216899292552\n",
      "cap-color: 0.15908552413095828\n",
      "does-bruise-or-bleed: -0.08014134192374898\n",
      "gill-attachment: -0.11229882682400974\n",
      "gill-spacing: -0.1987267275316262\n",
      "gill-color: -0.10449964957381111\n",
      "stem-height: 0.05708669944707378\n",
      "stem-width: 0.5828143731373588\n",
      "stem-root: -0.24017847693093727\n",
      "stem-surface: -0.2583307902695928\n",
      "stem-color: 0.15910979612963883\n",
      "veil-color: 0.40973659628888304\n",
      "has-ring: 0.024310232693188005\n",
      "ring-type: -0.14929559840286719\n",
      "spore-print-color: 0.020337915123592204\n",
      "habitat: 0.09927040378277657\n",
      "season: 0.009367596470327578\n",
      "Accuracy/Score: 0.78313\n",
      "Classification report\n",
      "              precision    recall  f1-score   support\n",
      "\n",
      "       False       0.84      0.82      0.83      3933\n",
      "        True       0.69      0.71      0.70      2186\n",
      "\n",
      "    accuracy                           0.78      6119\n",
      "   macro avg       0.76      0.77      0.77      6119\n",
      "weighted avg       0.78      0.78      0.78      6119\n",
      "\n"
     ]
    }
   ],
   "source": [
    "from sklearn.linear_model import RidgeClassifier\n",
    "\n",
    "model = Pipeline([\n",
    "    (\"scaler\", StandardScaler()),\n",
    "    (\"rc\", RidgeClassifier(alpha=0.5))\n",
    "])\n",
    "model.fit(X_train, y_train)\n",
    "\n",
    "print_coefficients(model.named_steps[\"rc\"])\n",
    "print_eval(X_val, y_val, model)"
   ]
  },
  {
   "cell_type": "code",
   "execution_count": 161,
   "metadata": {},
   "outputs": [],
   "source": [
    "from sklearn.linear_model import LogisticRegression\n",
    "from sklearn.model_selection import GridSearchCV, KFold, StratifiedKFold\n",
    "\n",
    "kf = KFold(3, shuffle=True, random_state=42)\n",
    "skf = StratifiedKFold(3, shuffle=True, random_state=42)\n",
    "\n",
    "model = Pipeline([\n",
    "    (\"scaler\", None),\n",
    "    (\"lr\", LogisticRegression(solver=\"saga\"))\n",
    "])\n",
    "grid = [\n",
    "    {\n",
    "        \"scaler\": [None, StandardScaler(), MinMaxScaler()],\n",
    "        \"lr__penalty\": [None]\n",
    "    },\n",
    "    {\n",
    "        \"scaler\": [None, StandardScaler(), MinMaxScaler()],\n",
    "        \"lr__penalty\": [\"l2\", \"l1\"],\n",
    "        \"lr__C\": np.logspace(-2, 2, 5)\n",
    "    },\n",
    "    {\n",
    "        \"scaler\": [None, StandardScaler(), MinMaxScaler()],\n",
    "        \"lr__penalty\": [\"elasticnet\"],\n",
    "        \"lr__C\": np.logspace(-2, 2, 5),\n",
    "        \"lr__l1_ratio\": [0.2, 0.5]\n",
    "    }\n",
    "]\n",
    "# gs = GridSearchCV(model, grid, cv=skf)\n",
    "# gs.fit(X, y)\n",
    "# pd.DataFrame(gs.cv_results_).sort_values(\"rank_test_score\").head(5)"
   ]
  },
  {
   "cell_type": "markdown",
   "metadata": {},
   "source": [
    "batch size aiuta tantissimo"
   ]
  },
  {
   "cell_type": "code",
   "execution_count": 162,
   "metadata": {},
   "outputs": [
    {
     "data": {
      "text/html": [
       "<div>\n",
       "<style scoped>\n",
       "    .dataframe tbody tr th:only-of-type {\n",
       "        vertical-align: middle;\n",
       "    }\n",
       "\n",
       "    .dataframe tbody tr th {\n",
       "        vertical-align: top;\n",
       "    }\n",
       "\n",
       "    .dataframe thead th {\n",
       "        text-align: right;\n",
       "    }\n",
       "</style>\n",
       "<table border=\"1\" class=\"dataframe\">\n",
       "  <thead>\n",
       "    <tr style=\"text-align: right;\">\n",
       "      <th></th>\n",
       "      <th>mean_fit_time</th>\n",
       "      <th>std_fit_time</th>\n",
       "      <th>mean_score_time</th>\n",
       "      <th>std_score_time</th>\n",
       "      <th>param_mlp__hidden_layer_sizes</th>\n",
       "      <th>params</th>\n",
       "      <th>split0_test_score</th>\n",
       "      <th>split1_test_score</th>\n",
       "      <th>split2_test_score</th>\n",
       "      <th>mean_test_score</th>\n",
       "      <th>std_test_score</th>\n",
       "      <th>rank_test_score</th>\n",
       "    </tr>\n",
       "  </thead>\n",
       "  <tbody>\n",
       "    <tr>\n",
       "      <th>1</th>\n",
       "      <td>2.705885</td>\n",
       "      <td>0.244730</td>\n",
       "      <td>0.006358</td>\n",
       "      <td>0.001928</td>\n",
       "      <td>8</td>\n",
       "      <td>{'mlp__hidden_layer_sizes': 8}</td>\n",
       "      <td>1.000000</td>\n",
       "      <td>1.0</td>\n",
       "      <td>0.999755</td>\n",
       "      <td>0.999918</td>\n",
       "      <td>0.000116</td>\n",
       "      <td>1</td>\n",
       "    </tr>\n",
       "    <tr>\n",
       "      <th>0</th>\n",
       "      <td>3.409045</td>\n",
       "      <td>0.176284</td>\n",
       "      <td>0.006713</td>\n",
       "      <td>0.000629</td>\n",
       "      <td>(4, 4)</td>\n",
       "      <td>{'mlp__hidden_layer_sizes': (4, 4)}</td>\n",
       "      <td>0.999755</td>\n",
       "      <td>1.0</td>\n",
       "      <td>0.999019</td>\n",
       "      <td>0.999591</td>\n",
       "      <td>0.000417</td>\n",
       "      <td>2</td>\n",
       "    </tr>\n",
       "  </tbody>\n",
       "</table>\n",
       "</div>"
      ],
      "text/plain": [
       "   mean_fit_time  std_fit_time  mean_score_time  std_score_time  \\\n",
       "1       2.705885      0.244730         0.006358        0.001928   \n",
       "0       3.409045      0.176284         0.006713        0.000629   \n",
       "\n",
       "  param_mlp__hidden_layer_sizes                               params  \\\n",
       "1                             8       {'mlp__hidden_layer_sizes': 8}   \n",
       "0                        (4, 4)  {'mlp__hidden_layer_sizes': (4, 4)}   \n",
       "\n",
       "   split0_test_score  split1_test_score  split2_test_score  mean_test_score  \\\n",
       "1           1.000000                1.0           0.999755         0.999918   \n",
       "0           0.999755                1.0           0.999019         0.999591   \n",
       "\n",
       "   std_test_score  rank_test_score  \n",
       "1        0.000116                1  \n",
       "0        0.000417                2  "
      ]
     },
     "execution_count": 162,
     "metadata": {},
     "output_type": "execute_result"
    }
   ],
   "source": [
    "from sklearn.neural_network import MLPClassifier\n",
    "\n",
    "model = Pipeline([\n",
    "    (\"scaler\", StandardScaler()),\n",
    "    (\"mlp\", MLPClassifier(batch_size=50, activation=\"relu\", random_state=42))\n",
    "])\n",
    "grid = {\n",
    "    \"mlp__hidden_layer_sizes\": [(4, 4), 8],\n",
    "}\n",
    "gs = GridSearchCV(model, grid, cv=skf)\n",
    "gs.fit(X_train, y_train)\n",
    "pd.DataFrame(gs.cv_results_).sort_values(\"rank_test_score\").head(5)"
   ]
  }
 ],
 "metadata": {
  "kernelspec": {
   "display_name": ".venv",
   "language": "python",
   "name": "python3"
  },
  "language_info": {
   "codemirror_mode": {
    "name": "ipython",
    "version": 3
   },
   "file_extension": ".py",
   "mimetype": "text/x-python",
   "name": "python",
   "nbconvert_exporter": "python",
   "pygments_lexer": "ipython3",
   "version": "3.12.3"
  }
 },
 "nbformat": 4,
 "nbformat_minor": 2
}

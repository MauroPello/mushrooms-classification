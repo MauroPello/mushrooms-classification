{
 "cells": [
  {
   "cell_type": "code",
   "execution_count": 162,
   "metadata": {},
   "outputs": [],
   "source": [
    "# setup e test librerie\n",
    "%matplotlib inline\n",
    "import numpy as np\n",
    "import pandas as pd\n",
    "import matplotlib.pyplot as plt"
   ]
  },
  {
   "cell_type": "markdown",
   "metadata": {},
   "source": [
    "evaluation\n",
    "\n",
    "overfitting"
   ]
  },
  {
   "cell_type": "markdown",
   "metadata": {},
   "source": [
    "Importare tutto"
   ]
  },
  {
   "cell_type": "code",
   "execution_count": 163,
   "metadata": {},
   "outputs": [],
   "source": [
    "mushrooms = pd.read_csv(\"mushrooms_cleaned.csv\")\n",
    "\n",
    "y = mushrooms[\"is-edible\"]\n",
    "X_all = mushrooms.drop(columns=\"is-edible\")"
   ]
  },
  {
   "cell_type": "markdown",
   "metadata": {},
   "source": [
    "Select KBest features and only use those"
   ]
  },
  {
   "cell_type": "code",
   "execution_count": 164,
   "metadata": {},
   "outputs": [],
   "source": [
    "from sklearn.feature_selection import SelectKBest\n",
    "\n",
    "selector = SelectKBest()\n",
    "best_features = selector.fit_transform(X_all, y)\n",
    "\n",
    "X = pd.DataFrame(best_features, columns=selector.get_feature_names_out())"
   ]
  },
  {
   "cell_type": "markdown",
   "metadata": {},
   "source": [
    "Splitting data"
   ]
  },
  {
   "cell_type": "code",
   "execution_count": 165,
   "metadata": {},
   "outputs": [],
   "source": [
    "from sklearn.pipeline import Pipeline\n",
    "from sklearn.preprocessing import StandardScaler, MinMaxScaler\n",
    "from sklearn.model_selection import train_test_split\n",
    "from sklearn.metrics import accuracy_score, classification_report\n",
    "\n",
    "X_train, X_val, y_train, y_val = train_test_split(\n",
    "    X, y,\n",
    "    test_size=1/3,\n",
    "    random_state=42\n",
    ")"
   ]
  },
  {
   "cell_type": "markdown",
   "metadata": {},
   "source": [
    "Creating function for printing an evaluation"
   ]
  },
  {
   "cell_type": "code",
   "execution_count": 166,
   "metadata": {},
   "outputs": [],
   "source": [
    "def print_eval(X, y, model):\n",
    "    y_pred = model.predict(X)\n",
    "    accuracy = accuracy_score(y, y_pred)\n",
    "    print(f\"Accuracy/Score: {accuracy:.5}\")\n",
    "    print(\"Classification report\")\n",
    "    print(classification_report(y, y_pred))"
   ]
  },
  {
   "cell_type": "markdown",
   "metadata": {},
   "source": [
    "Creating function for printing the coefficients of the features"
   ]
  },
  {
   "cell_type": "code",
   "execution_count": 167,
   "metadata": {},
   "outputs": [],
   "source": [
    "def print_coefficients(classifier):\n",
    "    print(\"Coefficients\")\n",
    "    for i in range(len(X.columns)):\n",
    "        print(f\"{X.columns[i]}: {classifier.coef_[0][i]}\")"
   ]
  },
  {
   "cell_type": "markdown",
   "metadata": {},
   "source": [
    "Try and evaluate logistic regression"
   ]
  },
  {
   "cell_type": "code",
   "execution_count": 168,
   "metadata": {},
   "outputs": [
    {
     "name": "stdout",
     "output_type": "stream",
     "text": [
      "Accuracy/Score: 0.77447\n",
      "Classification report\n",
      "              precision    recall  f1-score   support\n",
      "\n",
      "       False       0.81      0.84      0.83      3933\n",
      "        True       0.70      0.65      0.67      2186\n",
      "\n",
      "    accuracy                           0.77      6119\n",
      "   macro avg       0.76      0.75      0.75      6119\n",
      "weighted avg       0.77      0.77      0.77      6119\n",
      "\n"
     ]
    }
   ],
   "source": [
    "from sklearn.linear_model import LogisticRegression\n",
    "\n",
    "model = Pipeline([\n",
    "    (\"scaler\", StandardScaler()),\n",
    "    (\"lr\", LogisticRegression(solver=\"saga\"))\n",
    "])\n",
    "model.fit(X_train, y_train)\n",
    "\n",
    "# print_coefficients(model.named_steps[\"lr\"])\n",
    "print_eval(X_val, y_val, model)"
   ]
  },
  {
   "cell_type": "markdown",
   "metadata": {},
   "source": [
    "Try and evaluate decision tree"
   ]
  },
  {
   "cell_type": "code",
   "execution_count": 169,
   "metadata": {},
   "outputs": [
    {
     "name": "stdout",
     "output_type": "stream",
     "text": [
      "Accuracy/Score: 0.77153\n",
      "Classification report\n",
      "              precision    recall  f1-score   support\n",
      "\n",
      "       False       0.86      0.77      0.81      3933\n",
      "        True       0.65      0.77      0.71      2186\n",
      "\n",
      "    accuracy                           0.77      6119\n",
      "   macro avg       0.76      0.77      0.76      6119\n",
      "weighted avg       0.78      0.77      0.77      6119\n",
      "\n"
     ]
    }
   ],
   "source": [
    "from sklearn.tree import DecisionTreeClassifier\n",
    "from sklearn.tree import plot_tree\n",
    "\n",
    "model = Pipeline([\n",
    "    (\"scaler\", StandardScaler()),\n",
    "    (\"dtc\", DecisionTreeClassifier(max_depth=3))\n",
    "])\n",
    "model.fit(X_train, y_train)\n",
    "\n",
    "# plot_tree(model.named_steps[\"dtc\"])\n",
    "print_eval(X_val, y_val, model)"
   ]
  },
  {
   "cell_type": "markdown",
   "metadata": {},
   "source": [
    "Try and evaluate ridge"
   ]
  },
  {
   "cell_type": "code",
   "execution_count": 170,
   "metadata": {},
   "outputs": [
    {
     "name": "stdout",
     "output_type": "stream",
     "text": [
      "Accuracy/Score: 0.77153\n",
      "Classification report\n",
      "              precision    recall  f1-score   support\n",
      "\n",
      "       False       0.82      0.83      0.82      3933\n",
      "        True       0.69      0.66      0.67      2186\n",
      "\n",
      "    accuracy                           0.77      6119\n",
      "   macro avg       0.75      0.75      0.75      6119\n",
      "weighted avg       0.77      0.77      0.77      6119\n",
      "\n"
     ]
    }
   ],
   "source": [
    "from sklearn.linear_model import RidgeClassifier\n",
    "\n",
    "model = Pipeline([\n",
    "    (\"scaler\", StandardScaler()),\n",
    "    (\"rc\", RidgeClassifier(alpha=0.5))\n",
    "])\n",
    "model.fit(X_train, y_train)\n",
    "\n",
    "# print_coefficients(model.named_steps[\"rc\"])\n",
    "print_eval(X_val, y_val, model)"
   ]
  },
  {
   "cell_type": "markdown",
   "metadata": {},
   "source": [
    "Try and evaluate Random forest"
   ]
  },
  {
   "cell_type": "code",
   "execution_count": 171,
   "metadata": {},
   "outputs": [
    {
     "name": "stdout",
     "output_type": "stream",
     "text": [
      "Accuracy/Score: 1.0\n",
      "Classification report\n",
      "              precision    recall  f1-score   support\n",
      "\n",
      "       False       1.00      1.00      1.00      3933\n",
      "        True       1.00      1.00      1.00      2186\n",
      "\n",
      "    accuracy                           1.00      6119\n",
      "   macro avg       1.00      1.00      1.00      6119\n",
      "weighted avg       1.00      1.00      1.00      6119\n",
      "\n"
     ]
    }
   ],
   "source": [
    "from sklearn.ensemble import RandomForestClassifier\n",
    "\n",
    "model = Pipeline([\n",
    "    (\"scaler\", StandardScaler()),\n",
    "    (\"rfc\", RandomForestClassifier())\n",
    "])\n",
    "model.fit(X_train, y_train)\n",
    "\n",
    "print_eval(X_val, y_val, model)"
   ]
  },
  {
   "cell_type": "markdown",
   "metadata": {},
   "source": [
    "Try and evaluate svm"
   ]
  },
  {
   "cell_type": "code",
   "execution_count": 172,
   "metadata": {},
   "outputs": [
    {
     "name": "stdout",
     "output_type": "stream",
     "text": [
      "Accuracy/Score: 0.99967\n",
      "Classification report\n",
      "              precision    recall  f1-score   support\n",
      "\n",
      "       False       1.00      1.00      1.00      3933\n",
      "        True       1.00      1.00      1.00      2186\n",
      "\n",
      "    accuracy                           1.00      6119\n",
      "   macro avg       1.00      1.00      1.00      6119\n",
      "weighted avg       1.00      1.00      1.00      6119\n",
      "\n"
     ]
    }
   ],
   "source": [
    "from sklearn.svm import SVC\n",
    "\n",
    "model = Pipeline([\n",
    "    (\"scaler\", StandardScaler()),\n",
    "    (\"svm\", SVC(random_state=42))\n",
    "])\n",
    "model.fit(X_train, y_train)\n",
    "\n",
    "print_eval(X_val, y_val, model)"
   ]
  },
  {
   "cell_type": "markdown",
   "metadata": {},
   "source": [
    "KNN classifier"
   ]
  },
  {
   "cell_type": "code",
   "execution_count": 173,
   "metadata": {},
   "outputs": [
    {
     "name": "stdout",
     "output_type": "stream",
     "text": [
      "Accuracy/Score: 1.0\n",
      "Classification report\n",
      "              precision    recall  f1-score   support\n",
      "\n",
      "       False       1.00      1.00      1.00      3933\n",
      "        True       1.00      1.00      1.00      2186\n",
      "\n",
      "    accuracy                           1.00      6119\n",
      "   macro avg       1.00      1.00      1.00      6119\n",
      "weighted avg       1.00      1.00      1.00      6119\n",
      "\n"
     ]
    }
   ],
   "source": [
    "from sklearn.neighbors import KNeighborsClassifier\n",
    "\n",
    "model = Pipeline([\n",
    "    (\"scaler\", StandardScaler()),\n",
    "    (\"knn\", KNeighborsClassifier())\n",
    "])\n",
    "model.fit(X_train, y_train)\n",
    "\n",
    "print_eval(X_val, y_val, model)"
   ]
  }
 ],
 "metadata": {
  "kernelspec": {
   "display_name": ".venv",
   "language": "python",
   "name": "python3"
  },
  "language_info": {
   "codemirror_mode": {
    "name": "ipython",
    "version": 3
   },
   "file_extension": ".py",
   "mimetype": "text/x-python",
   "name": "python",
   "nbconvert_exporter": "python",
   "pygments_lexer": "ipython3",
   "version": "3.12.3"
  }
 },
 "nbformat": 4,
 "nbformat_minor": 2
}

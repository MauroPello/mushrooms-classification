{
 "cells": [
  {
   "cell_type": "markdown",
   "metadata": {},
   "source": [
    "If you don't normalize the data and you keep 7+ features than you will still get to 100% accuracy\n",
    "But if you want to lower the amount of features to below 5 than normalizing data improves the accuracy quite a bit\n",
    "\n",
    "It's also nice to reduce the number of selected features as it makes the real life application more reasonable\n",
    "\n",
    "Removing all those rows with NaN values in those 4 columns improves the quality of data a lot, and we still come out with 18k rows of valuable data. Less data filling -> better quality of data -> faster training"
   ]
  },
  {
   "cell_type": "code",
   "execution_count": null,
   "metadata": {},
   "outputs": [],
   "source": []
  }
 ],
 "metadata": {
  "language_info": {
   "name": "python"
  }
 },
 "nbformat": 4,
 "nbformat_minor": 2
}
